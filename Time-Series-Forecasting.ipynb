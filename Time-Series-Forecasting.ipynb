{
  "nbformat": 4,
  "nbformat_minor": 0,
  "metadata": {
    "kernelspec": {
      "display_name": "Python 3",
      "language": "python",
      "name": "python3"
    },
    "language_info": {
      "codemirror_mode": {
        "name": "ipython",
        "version": 3
      },
      "file_extension": ".py",
      "mimetype": "text/x-python",
      "name": "python",
      "nbconvert_exporter": "python",
      "pygments_lexer": "ipython3",
      "version": "3.7.6"
    },
    "colab": {
      "provenance": []
    }
  },
  "cells": [
    {
      "cell_type": "markdown",
      "metadata": {
        "id": "-H00ZGYyvqGP"
      },
      "source": [
        "# **Time Series Forecasting**\n",
        "\n",
        " Change the path for input and output files and Run the cells one by one.\n",
        "\n",
        " You can directly skip to CNN part"
      ]
    },
    {
      "cell_type": "code",
      "metadata": {
        "id": "Z3Cx82SHgy9G",
        "colab": {
          "base_uri": "https://localhost:8080/"
        },
        "outputId": "b60d908f-15f6-4a55-9daa-ffa8e2ec19a5"
      },
      "source": [
        "from google.colab import drive\n",
        "drive.mount('/content/drive')"
      ],
      "execution_count": null,
      "outputs": [
        {
          "output_type": "stream",
          "name": "stdout",
          "text": [
            "Mounted at /content/drive\n"
          ]
        }
      ]
    },
    {
      "cell_type": "code",
      "metadata": {
        "id": "KTHndCQwzdcF",
        "colab": {
          "base_uri": "https://localhost:8080/",
          "height": 52
        },
        "outputId": "d047f05d-0399-4d4a-9f2d-e74f23d93077"
      },
      "source": [
        "#Arima seasonal model\n",
        "\n",
        "import pandas as pd\n",
        "import numpy as np\n",
        "\n",
        "import matplotlib.pyplot as plt\n",
        "import datetime\n",
        "# load all data\n",
        "\n",
        "\n",
        "from datetime import datetime\n",
        "#We can use the read_csv() function to load the data and combine the first two columns into a single datetime column to use it as an index.\n",
        "#dataset = pd.read_csv(r'/content/KMJ4Daily2018-2020.csv',index_col='Date',infer_datetime_format=True)\n",
        "dataset = pd.read_csv(r'/content/drive/My Drive/Colab Notebooks/Data/KMJ4Daily2018-2020.csv',index_col='Date',infer_datetime_format=True)\n",
        "\n",
        "dataset = dataset.dropna()\n",
        "#print(dataset.shape)\n",
        "\n",
        "dataset.index = pd.to_datetime(dataset.index)\n",
        "\n",
        "lastDate = dataset.last_valid_index()\n",
        "\n",
        "print(lastDate)\n",
        "next = lastDate + pd.DateOffset(days=1)\n",
        "print(next)\n",
        "rng = pd.date_range(next, periods=31, freq='D')\n",
        "means = dataset.mean()\n",
        "idx = pd.Index(rng)\n",
        "NewData = dataset.append(pd.DataFrame(index=idx))\n",
        "NewData = NewData.fillna(means)\n",
        "#NewData.tail(40)\n",
        "\n",
        "#print(NewData.tail(35))"
      ],
      "execution_count": null,
      "outputs": [
        {
          "output_type": "stream",
          "text": [
            "2020-02-29 00:00:00\n",
            "2020-03-01 00:00:00\n"
          ],
          "name": "stdout"
        }
      ]
    },
    {
      "cell_type": "code",
      "metadata": {
        "id": "rqJgWC6GzdcW",
        "colab": {
          "base_uri": "https://localhost:8080/",
          "height": 52
        },
        "outputId": "72eb6fc1-e88d-4a4c-c0f9-4f0e44f330a5"
      },
      "source": [
        "\n",
        "endDate = NewData.last_valid_index()\n",
        "print(\"Predictions from :\")\n",
        "print(next ,  endDate)"
      ],
      "execution_count": null,
      "outputs": [
        {
          "output_type": "stream",
          "text": [
            "Predictions from :\n",
            "2020-03-01 00:00:00 2020-03-31 00:00:00\n"
          ],
          "name": "stdout"
        }
      ]
    },
    {
      "cell_type": "code",
      "metadata": {
        "id": "9b3qt-5izdci"
      },
      "source": [
        "from statsmodels.tsa.statespace.sarimax import SARIMAX\n",
        "%matplotlib inline\n",
        "\n",
        "from scipy import stats\n",
        "\n",
        "\n",
        "import statsmodels.api as sm\n"
      ],
      "execution_count": null,
      "outputs": []
    },
    {
      "cell_type": "code",
      "metadata": {
        "id": "0QvxNhgozdcs"
      },
      "source": [],
      "execution_count": null,
      "outputs": []
    },
    {
      "cell_type": "code",
      "metadata": {
        "id": "DM-GrJYTzdc2",
        "colab": {
          "base_uri": "https://localhost:8080/",
          "height": 283
        },
        "outputId": "a696209f-23e2-48c9-efdf-9db4f15ab293"
      },
      "source": [
        "import pandas\n",
        "from statsmodels.graphics.tsaplots import plot_acf,plot_pacf\n",
        "from pandas.plotting import autocorrelation_plot\n",
        "#from pandas.tools.plotting import autocorrelation_plot\n",
        "from matplotlib import pyplot\n",
        "q = NewData.resample('M').mean()\n",
        "autocorrelation_plot(q)\n",
        "pyplot.show() #p=20"
      ],
      "execution_count": null,
      "outputs": [
        {
          "output_type": "display_data",
          "data": {
            "image/png": "[encoded data removed]",
            "text/plain": [
              "<Figure size 432x288 with 1 Axes>"
            ]
          },
          "metadata": {
            "tags": [],
            "needs_background": "light"
          }
        }
      ]
    },
    {
      "cell_type": "code",
      "metadata": {
        "id": "p1fPHkGVzddB",
        "colab": {
          "base_uri": "https://localhost:8080/",
          "height": 545
        },
        "outputId": "37ba2860-10bf-4223-b8a9-953fccdb2422"
      },
      "source": [
        "plot_acf(NewData['Power Generation'])\n"
      ],
      "execution_count": null,
      "outputs": [
        {
          "output_type": "execute_result",
          "data": {
            "image/png": "[encoded data removed]",
            "text/plain": [
              "<Figure size 432x288 with 1 Axes>"
            ]
          },
          "metadata": {
            "tags": []
          },
          "execution_count": 23
        },
        {
          "output_type": "display_data",
          "data": {
            "image/png": "[encoded data removed]",
            "text/plain": [
              "<Figure size 432x288 with 1 Axes>"
            ]
          },
          "metadata": {
            "tags": [],
            "needs_background": "light"
          }
        }
      ]
    },
    {
      "cell_type": "code",
      "metadata": {
        "id": "IEUUM096zddK",
        "colab": {
          "base_uri": "https://localhost:8080/",
          "height": 580
        },
        "outputId": "e1473b0b-2635-46e3-f09b-8d2d463922b3"
      },
      "source": [
        "plot_pacf(q['Power Generation']) #q val"
      ],
      "execution_count": null,
      "outputs": [
        {
          "output_type": "stream",
          "text": [
            "/usr/local/lib/python3.6/dist-packages/statsmodels/regression/linear_model.py:1358: RuntimeWarning: invalid value encountered in sqrt\n",
            "  return rho, np.sqrt(sigmasq)\n"
          ],
          "name": "stderr"
        },
        {
          "output_type": "execute_result",
          "data": {
            "image/png": "[encoded data removed]",
            "text/plain": [
              "<Figure size 432x288 with 1 Axes>"
            ]
          },
          "metadata": {
            "tags": []
          },
          "execution_count": 24
        },
        {
          "output_type": "display_data",
          "data": {
            "image/png": "[encoded data removed]",
            "text/plain": [
              "<Figure size 432x288 with 1 Axes>"
            ]
          },
          "metadata": {
            "tags": [],
            "needs_background": "light"
          }
        }
      ]
    },
    {
      "cell_type": "code",
      "metadata": {
        "id": "xUdh6yolzddU"
      },
      "source": [
        "#d = 1"
      ],
      "execution_count": null,
      "outputs": []
    },
    {
      "cell_type": "code",
      "metadata": {
        "id": "jH-VfDCLzddc"
      },
      "source": [],
      "execution_count": null,
      "outputs": []
    },
    {
      "cell_type": "code",
      "metadata": {
        "id": "t1LZ1NnYzddj"
      },
      "source": [],
      "execution_count": null,
      "outputs": []
    },
    {
      "cell_type": "code",
      "metadata": {
        "id": "u-kF8CO8zddr",
        "colab": {
          "base_uri": "https://localhost:8080/",
          "height": 72
        },
        "outputId": "7dac733f-26cc-4025-ca09-754b0dd995f1"
      },
      "source": [
        "sarimax_model = SARIMAX(NewData['Power Generation'],order=(20,1,4),seasonal_order=(1,1,1,30),exog=NewData['Temperature'])"
      ],
      "execution_count": null,
      "outputs": [
        {
          "output_type": "stream",
          "text": [
            "/usr/local/lib/python3.6/dist-packages/statsmodels/tsa/base/tsa_model.py:219: ValueWarning: A date index has been provided, but it has no associated frequency information and so will be ignored when e.g. forecasting.\n",
            "  ' ignored when e.g. forecasting.', ValueWarning)\n"
          ],
          "name": "stderr"
        }
      ]
    },
    {
      "cell_type": "code",
      "metadata": {
        "id": "nDevPt2Mzdd1",
        "colab": {
          "base_uri": "https://localhost:8080/",
          "height": 52
        },
        "outputId": "339bf481-8789-48a7-f537-42a798b474da"
      },
      "source": [
        "res = sarimax_model.fit(maxiter=200,disp=False)"
      ],
      "execution_count": null,
      "outputs": [
        {
          "output_type": "stream",
          "text": [
            "/usr/local/lib/python3.6/dist-packages/statsmodels/base/model.py:512: ConvergenceWarning: Maximum Likelihood optimization failed to converge. Check mle_retvals\n",
            "  \"Check mle_retvals\", ConvergenceWarning)\n"
          ],
          "name": "stderr"
        }
      ]
    },
    {
      "cell_type": "code",
      "metadata": {
        "id": "ofct0PB2zdd_",
        "colab": {
          "base_uri": "https://localhost:8080/",
          "height": 302
        },
        "outputId": "03ef27fd-8fb2-4ae5-f995-c62d5fac83f0"
      },
      "source": [
        "print(res.aic)\n",
        "\n",
        "res.resid.plot(kind='kde')"
      ],
      "execution_count": null,
      "outputs": [
        {
          "output_type": "stream",
          "text": [
            "8030.272601000281\n"
          ],
          "name": "stdout"
        },
        {
          "output_type": "execute_result",
          "data": {
            "text/plain": [
              "<matplotlib.axes._subplots.AxesSubplot at 0x7fc4481bca58>"
            ]
          },
          "metadata": {
            "tags": []
          },
          "execution_count": 28
        },
        {
          "output_type": "display_data",
          "data": {
            "image/png": "[encoded data removed]",
            "text/plain": [
              "<Figure size 432x288 with 1 Axes>"
            ]
          },
          "metadata": {
            "tags": [],
            "needs_background": "light"
          }
        }
      ]
    },
    {
      "cell_type": "code",
      "metadata": {
        "id": "cgpkiHNFzdeH"
      },
      "source": [],
      "execution_count": null,
      "outputs": []
    },
    {
      "cell_type": "code",
      "metadata": {
        "id": "yRCQ47iMzdeO",
        "colab": {
          "base_uri": "https://localhost:8080/",
          "height": 896
        },
        "outputId": "1b5271fb-7e16-445d-938d-c6ac7179da9d"
      },
      "source": [
        "res.summary()"
      ],
      "execution_count": null,
      "outputs": [
        {
          "output_type": "execute_result",
          "data": {
            "text/html": [
              "<table class=\"simpletable\">\n",
              "<caption>Statespace Model Results</caption>\n",
              "<tr>\n",
              "  <th>Dep. Variable:</th>          <td>Power Generation</td>         <th>  No. Observations:  </th>    <td>821</td>   \n",
              "</tr>\n",
              "<tr>\n",
              "  <th>Model:</th>           <td>SARIMAX(20, 1, 4)x(1, 1, 1, 30)</td> <th>  Log Likelihood     </th> <td>-3987.136</td>\n",
              "</tr>\n",
              "<tr>\n",
              "  <th>Date:</th>                   <td>Sat, 25 Jul 2020</td>         <th>  AIC                </th> <td>8030.273</td> \n",
              "</tr>\n",
              "<tr>\n",
              "  <th>Time:</th>                       <td>01:55:48</td>             <th>  BIC                </th> <td>8161.090</td> \n",
              "</tr>\n",
              "<tr>\n",
              "  <th>Sample:</th>                         <td>0</td>                <th>  HQIC               </th> <td>8080.556</td> \n",
              "</tr>\n",
              "<tr>\n",
              "  <th></th>                             <td> - 821</td>              <th>                     </th>     <td> </td>    \n",
              "</tr>\n",
              "<tr>\n",
              "  <th>Covariance Type:</th>               <td>opg</td>               <th>                     </th>     <td> </td>    \n",
              "</tr>\n",
              "</table>\n",
              "<table class=\"simpletable\">\n",
              "<tr>\n",
              "       <td></td>          <th>coef</th>     <th>std err</th>      <th>z</th>      <th>P>|z|</th>  <th>[0.025</th>    <th>0.975]</th>  \n",
              "</tr>\n",
              "<tr>\n",
              "  <th>Temperature</th> <td>    1.3363</td> <td>    2.138</td> <td>    0.625</td> <td> 0.532</td> <td>   -2.853</td> <td>    5.526</td>\n",
              "</tr>\n",
              "<tr>\n",
              "  <th>ar.L1</th>       <td>   -0.9766</td> <td>    0.546</td> <td>   -1.788</td> <td> 0.074</td> <td>   -2.047</td> <td>    0.094</td>\n",
              "</tr>\n",
              "<tr>\n",
              "  <th>ar.L2</th>       <td>   -0.7418</td> <td>    0.045</td> <td>  -16.619</td> <td> 0.000</td> <td>   -0.829</td> <td>   -0.654</td>\n",
              "</tr>\n",
              "<tr>\n",
              "  <th>ar.L3</th>       <td>   -0.2324</td> <td>    0.382</td> <td>   -0.609</td> <td> 0.543</td> <td>   -0.980</td> <td>    0.516</td>\n",
              "</tr>\n",
              "<tr>\n",
              "  <th>ar.L4</th>       <td>    0.5098</td> <td>    0.240</td> <td>    2.126</td> <td> 0.034</td> <td>    0.040</td> <td>    0.980</td>\n",
              "</tr>\n",
              "<tr>\n",
              "  <th>ar.L5</th>       <td>    0.1659</td> <td>    0.094</td> <td>    1.761</td> <td> 0.078</td> <td>   -0.019</td> <td>    0.351</td>\n",
              "</tr>\n",
              "<tr>\n",
              "  <th>ar.L6</th>       <td>    0.2365</td> <td>    0.071</td> <td>    3.319</td> <td> 0.001</td> <td>    0.097</td> <td>    0.376</td>\n",
              "</tr>\n",
              "<tr>\n",
              "  <th>ar.L7</th>       <td>    0.3850</td> <td>    0.115</td> <td>    3.336</td> <td> 0.001</td> <td>    0.159</td> <td>    0.611</td>\n",
              "</tr>\n",
              "<tr>\n",
              "  <th>ar.L8</th>       <td>    0.3311</td> <td>    0.132</td> <td>    2.508</td> <td> 0.012</td> <td>    0.072</td> <td>    0.590</td>\n",
              "</tr>\n",
              "<tr>\n",
              "  <th>ar.L9</th>       <td>    0.1715</td> <td>    0.097</td> <td>    1.772</td> <td> 0.076</td> <td>   -0.018</td> <td>    0.361</td>\n",
              "</tr>\n",
              "<tr>\n",
              "  <th>ar.L10</th>      <td>   -0.0136</td> <td>    0.069</td> <td>   -0.196</td> <td> 0.844</td> <td>   -0.149</td> <td>    0.122</td>\n",
              "</tr>\n",
              "<tr>\n",
              "  <th>ar.L11</th>      <td>   -0.1711</td> <td>    0.076</td> <td>   -2.265</td> <td> 0.023</td> <td>   -0.319</td> <td>   -0.023</td>\n",
              "</tr>\n",
              "<tr>\n",
              "  <th>ar.L12</th>      <td>   -0.1539</td> <td>    0.098</td> <td>   -1.572</td> <td> 0.116</td> <td>   -0.346</td> <td>    0.038</td>\n",
              "</tr>\n",
              "<tr>\n",
              "  <th>ar.L13</th>      <td>   -0.1100</td> <td>    0.071</td> <td>   -1.554</td> <td> 0.120</td> <td>   -0.249</td> <td>    0.029</td>\n",
              "</tr>\n",
              "<tr>\n",
              "  <th>ar.L14</th>      <td>    0.0267</td> <td>    0.071</td> <td>    0.377</td> <td> 0.706</td> <td>   -0.112</td> <td>    0.166</td>\n",
              "</tr>\n",
              "<tr>\n",
              "  <th>ar.L15</th>      <td>    0.1908</td> <td>    0.082</td> <td>    2.333</td> <td> 0.020</td> <td>    0.030</td> <td>    0.351</td>\n",
              "</tr>\n",
              "<tr>\n",
              "  <th>ar.L16</th>      <td>    0.1816</td> <td>    0.087</td> <td>    2.084</td> <td> 0.037</td> <td>    0.011</td> <td>    0.352</td>\n",
              "</tr>\n",
              "<tr>\n",
              "  <th>ar.L17</th>      <td>    0.0517</td> <td>    0.071</td> <td>    0.731</td> <td> 0.464</td> <td>   -0.087</td> <td>    0.190</td>\n",
              "</tr>\n",
              "<tr>\n",
              "  <th>ar.L18</th>      <td>   -0.0726</td> <td>    0.063</td> <td>   -1.155</td> <td> 0.248</td> <td>   -0.196</td> <td>    0.051</td>\n",
              "</tr>\n",
              "<tr>\n",
              "  <th>ar.L19</th>      <td>   -0.1281</td> <td>    0.061</td> <td>   -2.109</td> <td> 0.035</td> <td>   -0.247</td> <td>   -0.009</td>\n",
              "</tr>\n",
              "<tr>\n",
              "  <th>ar.L20</th>      <td>   -0.0829</td> <td>    0.054</td> <td>   -1.540</td> <td> 0.123</td> <td>   -0.188</td> <td>    0.023</td>\n",
              "</tr>\n",
              "<tr>\n",
              "  <th>ma.L1</th>       <td>    0.3895</td> <td>    0.684</td> <td>    0.570</td> <td> 0.569</td> <td>   -0.950</td> <td>    1.730</td>\n",
              "</tr>\n",
              "<tr>\n",
              "  <th>ma.L2</th>       <td>    0.0310</td> <td>    0.681</td> <td>    0.045</td> <td> 0.964</td> <td>   -1.304</td> <td>    1.366</td>\n",
              "</tr>\n",
              "<tr>\n",
              "  <th>ma.L3</th>       <td>   -0.4939</td> <td>    0.669</td> <td>   -0.738</td> <td> 0.461</td> <td>   -1.805</td> <td>    0.818</td>\n",
              "</tr>\n",
              "<tr>\n",
              "  <th>ma.L4</th>       <td>   -0.9262</td> <td>    0.689</td> <td>   -1.344</td> <td> 0.179</td> <td>   -2.277</td> <td>    0.425</td>\n",
              "</tr>\n",
              "<tr>\n",
              "  <th>ar.S.L30</th>    <td>   -0.0497</td> <td>    0.035</td> <td>   -1.422</td> <td> 0.155</td> <td>   -0.118</td> <td>    0.019</td>\n",
              "</tr>\n",
              "<tr>\n",
              "  <th>ma.S.L30</th>    <td>   -0.9051</td> <td>    0.035</td> <td>  -25.775</td> <td> 0.000</td> <td>   -0.974</td> <td>   -0.836</td>\n",
              "</tr>\n",
              "<tr>\n",
              "  <th>sigma2</th>      <td> 1289.8630</td> <td>  553.099</td> <td>    2.332</td> <td> 0.020</td> <td>  205.810</td> <td> 2373.916</td>\n",
              "</tr>\n",
              "</table>\n",
              "<table class=\"simpletable\">\n",
              "<tr>\n",
              "  <th>Ljung-Box (Q):</th>          <td>36.36</td> <th>  Jarque-Bera (JB):  </th> <td>10955.28</td>\n",
              "</tr>\n",
              "<tr>\n",
              "  <th>Prob(Q):</th>                <td>0.63</td>  <th>  Prob(JB):          </th>   <td>0.00</td>  \n",
              "</tr>\n",
              "<tr>\n",
              "  <th>Heteroskedasticity (H):</th> <td>0.32</td>  <th>  Skew:              </th>   <td>-1.54</td> \n",
              "</tr>\n",
              "<tr>\n",
              "  <th>Prob(H) (two-sided):</th>    <td>0.00</td>  <th>  Kurtosis:          </th>   <td>20.98</td> \n",
              "</tr>\n",
              "</table><br/><br/>Warnings:<br/>[1] Covariance matrix calculated using the outer product of gradients (complex-step)."
            ],
            "text/plain": [
              "<class 'statsmodels.iolib.summary.Summary'>\n",
              "\"\"\"\n",
              "                                  Statespace Model Results                                 \n",
              "===========================================================================================\n",
              "Dep. Variable:                    Power Generation   No. Observations:                  821\n",
              "Model:             SARIMAX(20, 1, 4)x(1, 1, 1, 30)   Log Likelihood               -3987.136\n",
              "Date:                             Sat, 25 Jul 2020   AIC                           8030.273\n",
              "Time:                                     01:55:48   BIC                           8161.090\n",
              "Sample:                                          0   HQIC                          8080.556\n",
              "                                             - 821                                         \n",
              "Covariance Type:                               opg                                         \n",
              "===============================================================================\n",
              "                  coef    std err          z      P>|z|      [0.025      0.975]\n",
              "-------------------------------------------------------------------------------\n",
              "Temperature     1.3363      2.138      0.625      0.532      -2.853       5.526\n",
              "ar.L1          -0.9766      0.546     -1.788      0.074      -2.047       0.094\n",
              "ar.L2          -0.7418      0.045    -16.619      0.000      -0.829      -0.654\n",
              "ar.L3          -0.2324      0.382     -0.609      0.543      -0.980       0.516\n",
              "ar.L4           0.5098      0.240      2.126      0.034       0.040       0.980\n",
              "ar.L5           0.1659      0.094      1.761      0.078      -0.019       0.351\n",
              "ar.L6           0.2365      0.071      3.319      0.001       0.097       0.376\n",
              "ar.L7           0.3850      0.115      3.336      0.001       0.159       0.611\n",
              "ar.L8           0.3311      0.132      2.508      0.012       0.072       0.590\n",
              "ar.L9           0.1715      0.097      1.772      0.076      -0.018       0.361\n",
              "ar.L10         -0.0136      0.069     -0.196      0.844      -0.149       0.122\n",
              "ar.L11         -0.1711      0.076     -2.265      0.023      -0.319      -0.023\n",
              "ar.L12         -0.1539      0.098     -1.572      0.116      -0.346       0.038\n",
              "ar.L13         -0.1100      0.071     -1.554      0.120      -0.249       0.029\n",
              "ar.L14          0.0267      0.071      0.377      0.706      -0.112       0.166\n",
              "ar.L15          0.1908      0.082      2.333      0.020       0.030       0.351\n",
              "ar.L16          0.1816      0.087      2.084      0.037       0.011       0.352\n",
              "ar.L17          0.0517      0.071      0.731      0.464      -0.087       0.190\n",
              "ar.L18         -0.0726      0.063     -1.155      0.248      -0.196       0.051\n",
              "ar.L19         -0.1281      0.061     -2.109      0.035      -0.247      -0.009\n",
              "ar.L20         -0.0829      0.054     -1.540      0.123      -0.188       0.023\n",
              "ma.L1           0.3895      0.684      0.570      0.569      -0.950       1.730\n",
              "ma.L2           0.0310      0.681      0.045      0.964      -1.304       1.366\n",
              "ma.L3          -0.4939      0.669     -0.738      0.461      -1.805       0.818\n",
              "ma.L4          -0.9262      0.689     -1.344      0.179      -2.277       0.425\n",
              "ar.S.L30       -0.0497      0.035     -1.422      0.155      -0.118       0.019\n",
              "ma.S.L30       -0.9051      0.035    -25.775      0.000      -0.974      -0.836\n",
              "sigma2       1289.8630    553.099      2.332      0.020     205.810    2373.916\n",
              "===================================================================================\n",
              "Ljung-Box (Q):                       36.36   Jarque-Bera (JB):             10955.28\n",
              "Prob(Q):                              0.63   Prob(JB):                         0.00\n",
              "Heteroskedasticity (H):               0.32   Skew:                            -1.54\n",
              "Prob(H) (two-sided):                  0.00   Kurtosis:                        20.98\n",
              "===================================================================================\n",
              "\n",
              "Warnings:\n",
              "[1] Covariance matrix calculated using the outer product of gradients (complex-step).\n",
              "\"\"\""
            ]
          },
          "metadata": {
            "tags": []
          },
          "execution_count": 29
        }
      ]
    },
    {
      "cell_type": "code",
      "metadata": {
        "id": "SbjU1gnozdeY",
        "colab": {
          "base_uri": "https://localhost:8080/",
          "height": 175
        },
        "outputId": "fbe3fa5b-eced-4dcf-88c1-ffdb36c71609"
      },
      "source": [
        "res.resid.describe()"
      ],
      "execution_count": null,
      "outputs": [
        {
          "output_type": "execute_result",
          "data": {
            "text/plain": [
              "count     821.000000\n",
              "mean        0.294412\n",
              "std        63.353831\n",
              "min      -640.334711\n",
              "25%       -20.406937\n",
              "50%        -1.071082\n",
              "75%        19.572524\n",
              "max      1314.736978\n",
              "dtype: float64"
            ]
          },
          "metadata": {
            "tags": []
          },
          "execution_count": 30
        }
      ]
    },
    {
      "cell_type": "code",
      "metadata": {
        "id": "c__B5pPwzdej"
      },
      "source": [
        "\n",
        "predictions = res.predict(start = next, end = endDate,exog = NewData['Temperature'], dynamic= True)"
      ],
      "execution_count": null,
      "outputs": []
    },
    {
      "cell_type": "code",
      "metadata": {
        "id": "DquLe_uTzdet"
      },
      "source": [
        "#print(pd1.tail(40))\n",
        "pd1 = predictions.to_frame()\n",
        "#print(pd1.tail(32))\n",
        "#print(len(pd1),type(pd1))\n"
      ],
      "execution_count": null,
      "outputs": []
    },
    {
      "cell_type": "code",
      "metadata": {
        "run_control": {
          "marked": false
        },
        "id": "RGKWwhfUzde5"
      },
      "source": [
        "pd1.columns = ['Pow_Prediction']\n",
        "pd1.index = pd1.index.rename('Date')\n",
        "#print(pd1.tail(31))\n",
        "#pd1.tail(31).plot()\n",
        "final1 = pd1.iloc[-31:,:]\n",
        "#Output file\n",
        "final1.to_excel(r\"/content/drive/My Drive/Colab Notebooks/Output/CNN/TimeSeriesPred1.xlsx\")"
      ],
      "execution_count": null,
      "outputs": []
    },
    {
      "cell_type": "code",
      "metadata": {
        "id": "gkjay7Iizde_"
      },
      "source": [],
      "execution_count": null,
      "outputs": []
    },
    {
      "cell_type": "code",
      "metadata": {
        "id": "HJDGCqIfzdfF"
      },
      "source": [
        "import pandas as pd\n",
        "import numpy as np\n",
        "import tensorflow as tf\n",
        "from tensorflow import keras\n",
        "from tensorflow.keras import layers\n",
        "import matplotlib.pyplot as plt\n",
        "import datetime\n",
        "# load all data\n",
        "from keras.callbacks import ModelCheckpoint\n",
        "# univariate multi-step vector-output 1d cnn model\n",
        "from numpy import array\n",
        "from keras.models import Sequential\n",
        "from keras.layers import Dense\n",
        "from keras.layers import Flatten\n",
        "from keras.layers.convolutional import Conv1D\n",
        "from keras.layers.convolutional import MaxPooling1D\n",
        "from keras.callbacks import EarlyStopping\n",
        "from keras.models import load_model\n",
        "# split a univariate sequence into samples\n",
        "def split_sequence(sequence, n_steps_in, n_steps_out):\n",
        "    X, y = list(), list()\n",
        "    for i in range(len(sequence)):\n",
        "        # find the end of this pattern\n",
        "        end_ix = i + n_steps_in\n",
        "        out_end_ix = end_ix + n_steps_out\n",
        "        # check if we are beyond the sequence\n",
        "        if out_end_ix > len(sequence):\n",
        "            break\n",
        "        # gather input and output parts of the pattern\n",
        "        seq_x, seq_y = sequence[i:end_ix], sequence[end_ix:out_end_ix]\n",
        "        X.append(seq_x)\n",
        "        y.append(seq_y)\n",
        "    return array(X), array(y)\n",
        "\n",
        "from keras import backend\n",
        "def rmse(y_true, y_pred):\n",
        "    return backend.sqrt(backend.mean(backend.square(y_pred - y_true), axis=-1))\n",
        "\n",
        "# define input sequence\n",
        "#change file path\n",
        "df = pd.read_csv(r'/content/KMJ4Daily2018-2020working.csv')\n",
        "\n",
        "df = df.dropna()\n",
        "raw_seq = df['Power Generation'].tolist()\n",
        "# choose a number of time steps 365 is for input steps and 31 is number of days ahead\n",
        "#n_steps_in, n_steps_out =365,31\n",
        "n_steps_in, n_steps_out =365,31\n",
        "# split into samples\n",
        "X, y = split_sequence(raw_seq, n_steps_in, n_steps_out)\n",
        "# reshape from [samples, timesteps] into [samples, timesteps, features]\n",
        "n_features = 1\n",
        "X = X.reshape((X.shape[0], X.shape[1], n_features)) #shape[0] = total data, shape [1] = 365\n",
        "\n",
        "# define model\n",
        "\n"
      ],
      "execution_count": null,
      "outputs": []
    },
    {
      "cell_type": "markdown",
      "metadata": {
        "id": "qZbHhX9Srzmg"
      },
      "source": [
        "#CNN Model run from here"
      ]
    },
    {
      "cell_type": "code",
      "metadata": {
        "id": "FckoL5XRzdfN",
        "colab": {
          "base_uri": "https://localhost:8080/",
          "height": 1000
        },
        "outputId": "e09f129c-60a4-4b90-9f95-cd358a2b62b6"
      },
      "source": [
        "import pandas as pd\n",
        "import numpy as np\n",
        "import tensorflow as tf\n",
        "from tensorflow import keras\n",
        "from tensorflow.keras import layers\n",
        "import matplotlib.pyplot as plt\n",
        "import datetime\n",
        "# load all data\n",
        "from keras.callbacks import ModelCheckpoint\n",
        "# univariate multi-step vector-output 1d cnn model\n",
        "from numpy import array\n",
        "from keras.models import Sequential\n",
        "from keras.layers import Dense\n",
        "from keras.layers import Flatten\n",
        "from keras.layers.convolutional import Conv1D\n",
        "from keras.layers.convolutional import MaxPooling1D\n",
        "from keras.callbacks import EarlyStopping\n",
        "from keras.models import load_model\n",
        "# split a univariate sequence into samples\n",
        "def split_sequence(sequence, n_steps_in, n_steps_out):\n",
        "    X, y = list(), list()\n",
        "    for i in range(len(sequence)):\n",
        "        # find the end of this pattern\n",
        "        end_ix = i + n_steps_in\n",
        "        out_end_ix = end_ix + n_steps_out\n",
        "        # check if we are beyond the sequence\n",
        "        if out_end_ix > len(sequence):\n",
        "            break\n",
        "        # gather input and output parts of the pattern\n",
        "        seq_x, seq_y = sequence[i:end_ix], sequence[end_ix:out_end_ix]\n",
        "        X.append(seq_x)\n",
        "        y.append(seq_y)\n",
        "    return array(X), array(y)\n",
        "\n",
        "from keras import backend\n",
        "def rmse(y_true, y_pred):\n",
        "    return backend.sqrt(backend.mean(backend.square(y_pred - y_true), axis=-1))\n",
        "\n",
        "# define input sequence\n",
        "#change file path\n",
        "df = pd.read_csv(r'/content/drive/My Drive/Colab Notebooks/Data/KMJ4Daily2018-2020.csv')\n",
        "\n",
        "df = df.dropna()\n",
        "\n",
        "raw_seq = df['Power Generation'].tolist()\n",
        "\n",
        "\n",
        "#print(raw_seq)\n",
        "\n",
        "#raw_seq = df[\"Power Generation\"].tolist()\n",
        "\n",
        "#raw_seq = scaled_df1[0].tolist()\n",
        "\n",
        "# choose a number of time steps 365 is for input steps and 31 is number of days ahead\n",
        "#n_steps_in, n_steps_out =365,31\n",
        "n_steps_in, n_steps_out =365,31\n",
        "# split into samples\n",
        "X, y = split_sequence(raw_seq, n_steps_in, n_steps_out)\n",
        "# reshape from [samples, timesteps] into [samples, timesteps, features]\n",
        "n_features = 1\n",
        "X = X.reshape((X.shape[0], X.shape[1], n_features)) #shape[0] = total data, shape [1] = 365\n",
        "\n",
        "# define model\n",
        "\n",
        "model = Sequential()\n",
        "\n",
        "\n",
        "#the performance of the model can be optized by increasing the hidden layers  and epochs\n",
        "#model.add(Conv1D(filters=32, kernel_size=2, activation='relu', input_shape=(n_steps_in, n_features))) #change the number of filters to tune. TUNING<<<<<<<<<<\n",
        "model.add(Conv1D(filters=32, kernel_size=2, activation='relu', input_shape=(n_steps_in, n_features))) #change the number of filters to tune. TUNING<<<<<<<<<< INPUT LAYER\n",
        "model.add(MaxPooling1D(pool_size=2)) #add the max-pooling layer with MaxPooling1D() SECOND LAYER - POOLING layer\n",
        "model.add(Flatten()) #normalize the shape of pooling layer\n",
        "model.add(Dense(1000, activation='relu'))#relu activation function , change the dense to tune the model - add dense layer 4th layer\n",
        "\n",
        "model.add(Dense(n_steps_out)) #output layer\n",
        "\n",
        "# Stop the training once the monitor value are achieve and patiently train the model until number of epoch when there is still no improvement\n",
        "#es = EarlyStopping(monitor='val_accuracy', verbose=1, patience=80) #change the monitor parameter and patience to tune. TUNING<<<<<<<<<<<\n",
        "es = EarlyStopping(monitor='val_loss', verbose=1, patience=100, mode='auto') #change the monitor parameter and patience to tune. TUNING<<<<<<<<<<<\n",
        "#mc = ModelCheckpoint('/content/drive/My Drive/Colab Notebooks/Output/CNN/best_model.h5', monitor='val_accuracy', mode='max', verbose=1, save_best_only=True) # change the monitor parameter to tune\n",
        "mc = ModelCheckpoint('/content/drive/My Drive/Colab Notebooks/Output/CNN/best_modelTunORI.h5', monitor='val_loss', mode='auto', verbose=1, save_best_only=True) # change the monitor parameter to tune\n",
        "# fit model\n",
        "\n",
        "from tensorflow.python.saved_model import loader_impl\n",
        "from tensorflow.python.keras.saving.saved_model import load as saved_model_load\n",
        "\n",
        "#change loss parameter to tune\n",
        "#model.compile(optimizer='adam', loss='mse',metrics=['rmse','mape','mse','mae','accuracy']) #for rmse score\n",
        "#model.compile(optimizer='adam', loss='mse',metrics=['mse','accuracy','mae'])\n",
        "model.compile(optimizer='adam', loss='mse',metrics=['mse','mape','mae'])\n",
        "# Compile model\n",
        "\n",
        "# fit model\n",
        "history = model.fit(X, y, validation_split=0.33, epochs=2000, verbose=1, callbacks=[es, mc]) #change the  validation_split from 0.50 to 0.10 tune\n",
        "# load the saved model\n",
        "#saved_model = load_model('best_model.h5', custom_objects={\"rmse\": rmse}) #for rmse score\n",
        "\n",
        "saved_model = load_model('/content/drive/My Drive/Colab Notebooks/Output/CNN/best_modelTunORI.h5')"
      ],
      "execution_count": null,
      "outputs": [
        {
          "output_type": "stream",
          "text": [
            "Train on 264 samples, validate on 131 samples\n",
            "Epoch 1/2000\n",
            "264/264 [==============================] - 1s 4ms/step - loss: 813314.2538 - mse: 813314.2500 - mape: 55.2081 - mae: 742.8277 - val_loss: 186129.5582 - val_mse: 186129.5625 - val_mape: 25.3746 - val_mae: 344.8979\n",
            "\n",
            "Epoch 00001: val_loss improved from inf to 186129.55821, saving model to /content/drive/My Drive/Colab Notebooks/Output/CNN/best_modelTunORI.h5\n",
            "Epoch 2/2000\n",
            "264/264 [==============================] - 1s 3ms/step - loss: 125307.5679 - mse: 125307.5703 - mape: 21.4587 - mae: 288.3102 - val_loss: 46946.2138 - val_mse: 46946.2188 - val_mape: 12.4473 - val_mae: 169.5600\n",
            "\n",
            "Epoch 00002: val_loss improved from 186129.55821 to 46946.21383, saving model to /content/drive/My Drive/Colab Notebooks/Output/CNN/best_modelTunORI.h5\n",
            "Epoch 3/2000\n",
            "264/264 [==============================] - 1s 3ms/step - loss: 45136.1661 - mse: 45136.1719 - mape: 12.5306 - mae: 168.9973 - val_loss: 11100.8574 - val_mse: 11100.8574 - val_mape: 5.8321 - val_mae: 79.5684\n",
            "\n",
            "Epoch 00003: val_loss improved from 46946.21383 to 11100.85738, saving model to /content/drive/My Drive/Colab Notebooks/Output/CNN/best_modelTunORI.h5\n",
            "Epoch 4/2000\n",
            "264/264 [==============================] - 1s 3ms/step - loss: 17027.7097 - mse: 17027.7090 - mape: 7.5470 - mae: 101.5904 - val_loss: 5722.5894 - val_mse: 5722.5898 - val_mape: 4.4137 - val_mae: 59.8537\n",
            "\n",
            "Epoch 00004: val_loss improved from 11100.85738 to 5722.58944, saving model to /content/drive/My Drive/Colab Notebooks/Output/CNN/best_modelTunORI.h5\n",
            "Epoch 5/2000\n",
            "264/264 [==============================] - 1s 3ms/step - loss: 7850.3248 - mse: 7850.3247 - mape: 5.2661 - mae: 71.0676 - val_loss: 5467.7143 - val_mse: 5467.7148 - val_mape: 4.4316 - val_mae: 60.6075\n",
            "\n",
            "Epoch 00005: val_loss improved from 5722.58944 to 5467.71432, saving model to /content/drive/My Drive/Colab Notebooks/Output/CNN/best_modelTunORI.h5\n",
            "Epoch 6/2000\n",
            "264/264 [==============================] - 1s 3ms/step - loss: 4192.7334 - mse: 4192.7334 - mape: 3.8260 - mae: 51.5529 - val_loss: 2851.6020 - val_mse: 2851.6018 - val_mape: 3.1256 - val_mae: 42.8845\n",
            "\n",
            "Epoch 00006: val_loss improved from 5467.71432 to 2851.60205, saving model to /content/drive/My Drive/Colab Notebooks/Output/CNN/best_modelTunORI.h5\n",
            "Epoch 7/2000\n",
            "264/264 [==============================] - 1s 3ms/step - loss: 2565.3762 - mse: 2565.3760 - mape: 2.9425 - mae: 39.9036 - val_loss: 2360.8287 - val_mse: 2360.8284 - val_mape: 2.8718 - val_mae: 39.5227\n",
            "\n",
            "Epoch 00007: val_loss improved from 2851.60205 to 2360.82873, saving model to /content/drive/My Drive/Colab Notebooks/Output/CNN/best_modelTunORI.h5\n",
            "Epoch 8/2000\n",
            "264/264 [==============================] - 1s 3ms/step - loss: 2003.5175 - mse: 2003.5176 - mape: 2.6630 - mae: 36.1070 - val_loss: 1772.0989 - val_mse: 1772.0990 - val_mape: 2.5159 - val_mae: 34.5289\n",
            "\n",
            "Epoch 00008: val_loss improved from 2360.82873 to 1772.09894, saving model to /content/drive/My Drive/Colab Notebooks/Output/CNN/best_modelTunORI.h5\n",
            "Epoch 9/2000\n",
            "264/264 [==============================] - 1s 3ms/step - loss: 1802.7881 - mse: 1802.7880 - mape: 2.5125 - mae: 34.1380 - val_loss: 1646.6884 - val_mse: 1646.6885 - val_mape: 2.4430 - val_mae: 33.5007\n",
            "\n",
            "Epoch 00009: val_loss improved from 1772.09894 to 1646.68844, saving model to /content/drive/My Drive/Colab Notebooks/Output/CNN/best_modelTunORI.h5\n",
            "Epoch 10/2000\n",
            "264/264 [==============================] - 1s 3ms/step - loss: 1722.8888 - mse: 1722.8887 - mape: 2.5100 - mae: 34.0439 - val_loss: 1734.5163 - val_mse: 1734.5164 - val_mape: 2.4857 - val_mae: 34.1912\n",
            "\n",
            "Epoch 00010: val_loss did not improve from 1646.68844\n",
            "Epoch 11/2000\n",
            "264/264 [==============================] - 1s 3ms/step - loss: 1648.7034 - mse: 1648.7035 - mape: 2.4691 - mae: 33.4929 - val_loss: 1527.5292 - val_mse: 1527.5293 - val_mape: 2.3697 - val_mae: 32.5451\n",
            "\n",
            "Epoch 00011: val_loss improved from 1646.68844 to 1527.52925, saving model to /content/drive/My Drive/Colab Notebooks/Output/CNN/best_modelTunORI.h5\n",
            "Epoch 12/2000\n",
            "264/264 [==============================] - 1s 3ms/step - loss: 1608.5118 - mse: 1608.5118 - mape: 2.4519 - mae: 33.2378 - val_loss: 1670.3317 - val_mse: 1670.3317 - val_mape: 2.4549 - val_mae: 33.7395\n",
            "\n",
            "Epoch 00012: val_loss did not improve from 1527.52925\n",
            "Epoch 13/2000\n",
            "264/264 [==============================] - 1s 3ms/step - loss: 1916.2188 - mse: 1916.2188 - mape: 2.6233 - mae: 35.5259 - val_loss: 1530.1240 - val_mse: 1530.1240 - val_mape: 2.3668 - val_mae: 32.4270\n",
            "\n",
            "Epoch 00013: val_loss did not improve from 1527.52925\n",
            "Epoch 14/2000\n",
            "264/264 [==============================] - 1s 3ms/step - loss: 1653.9016 - mse: 1653.9016 - mape: 2.4340 - mae: 33.0253 - val_loss: 1852.1186 - val_mse: 1852.1185 - val_mape: 2.5661 - val_mae: 35.3052\n",
            "\n",
            "Epoch 00014: val_loss did not improve from 1527.52925\n",
            "Epoch 15/2000\n",
            "264/264 [==============================] - 1s 3ms/step - loss: 1483.3719 - mse: 1483.3719 - mape: 2.3248 - mae: 31.5420 - val_loss: 1631.7671 - val_mse: 1631.7672 - val_mape: 2.4261 - val_mae: 33.3586\n",
            "\n",
            "Epoch 00015: val_loss did not improve from 1527.52925\n",
            "Epoch 16/2000\n",
            "264/264 [==============================] - 1s 3ms/step - loss: 1373.5958 - mse: 1373.5958 - mape: 2.2304 - mae: 30.2663 - val_loss: 1522.8171 - val_mse: 1522.8170 - val_mape: 2.3543 - val_mae: 32.3395\n",
            "\n",
            "Epoch 00016: val_loss improved from 1527.52925 to 1522.81707, saving model to /content/drive/My Drive/Colab Notebooks/Output/CNN/best_modelTunORI.h5\n",
            "Epoch 17/2000\n",
            "264/264 [==============================] - 1s 3ms/step - loss: 1377.9510 - mse: 1377.9509 - mape: 2.2331 - mae: 30.2866 - val_loss: 1602.2289 - val_mse: 1602.2289 - val_mape: 2.4042 - val_mae: 33.0392\n",
            "\n",
            "Epoch 00017: val_loss did not improve from 1522.81707\n",
            "Epoch 18/2000\n",
            "264/264 [==============================] - 1s 3ms/step - loss: 1334.1183 - mse: 1334.1183 - mape: 2.1779 - mae: 29.5665 - val_loss: 1445.3280 - val_mse: 1445.3280 - val_mape: 2.2902 - val_mae: 31.4383\n",
            "\n",
            "Epoch 00018: val_loss improved from 1522.81707 to 1445.32804, saving model to /content/drive/My Drive/Colab Notebooks/Output/CNN/best_modelTunORI.h5\n",
            "Epoch 19/2000\n",
            "264/264 [==============================] - 1s 3ms/step - loss: 1271.6260 - mse: 1271.6261 - mape: 2.1221 - mae: 28.7842 - val_loss: 1381.5229 - val_mse: 1381.5229 - val_mape: 2.2568 - val_mae: 30.9350\n",
            "\n",
            "Epoch 00019: val_loss improved from 1445.32804 to 1381.52294, saving model to /content/drive/My Drive/Colab Notebooks/Output/CNN/best_modelTunORI.h5\n",
            "Epoch 20/2000\n",
            "264/264 [==============================] - 1s 3ms/step - loss: 1210.1272 - mse: 1210.1271 - mape: 2.0867 - mae: 28.2811 - val_loss: 1896.8255 - val_mse: 1896.8256 - val_mape: 2.5919 - val_mae: 35.7136\n",
            "\n",
            "Epoch 00020: val_loss did not improve from 1381.52294\n",
            "Epoch 21/2000\n",
            "264/264 [==============================] - 1s 3ms/step - loss: 1132.6846 - mse: 1132.6847 - mape: 2.0040 - mae: 27.2015 - val_loss: 1609.3653 - val_mse: 1609.3654 - val_mape: 2.4142 - val_mae: 33.2075\n",
            "\n",
            "Epoch 00021: val_loss did not improve from 1381.52294\n",
            "Epoch 22/2000\n",
            "264/264 [==============================] - 1s 3ms/step - loss: 1084.0001 - mse: 1084.0001 - mape: 1.9596 - mae: 26.5955 - val_loss: 1301.9587 - val_mse: 1301.9586 - val_mape: 2.1982 - val_mae: 30.1711\n",
            "\n",
            "Epoch 00022: val_loss improved from 1381.52294 to 1301.95869, saving model to /content/drive/My Drive/Colab Notebooks/Output/CNN/best_modelTunORI.h5\n",
            "Epoch 23/2000\n",
            "264/264 [==============================] - 1s 3ms/step - loss: 1070.2917 - mse: 1070.2916 - mape: 1.9682 - mae: 26.6617 - val_loss: 1908.8821 - val_mse: 1908.8822 - val_mape: 2.6100 - val_mae: 35.9481\n",
            "\n",
            "Epoch 00023: val_loss did not improve from 1301.95869\n",
            "Epoch 24/2000\n",
            "264/264 [==============================] - 1s 4ms/step - loss: 1066.9121 - mse: 1066.9121 - mape: 1.9222 - mae: 26.0862 - val_loss: 1540.9891 - val_mse: 1540.9890 - val_mape: 2.3549 - val_mae: 32.3560\n",
            "\n",
            "Epoch 00024: val_loss did not improve from 1301.95869\n",
            "Epoch 25/2000\n",
            "264/264 [==============================] - 1s 3ms/step - loss: 1045.6523 - mse: 1045.6522 - mape: 1.8974 - mae: 25.7401 - val_loss: 1387.9947 - val_mse: 1387.9946 - val_mape: 2.2471 - val_mae: 30.8254\n",
            "\n",
            "Epoch 00025: val_loss did not improve from 1301.95869\n",
            "Epoch 26/2000\n",
            "264/264 [==============================] - 1s 3ms/step - loss: 988.2815 - mse: 988.2816 - mape: 1.8612 - mae: 25.2307 - val_loss: 1718.2188 - val_mse: 1718.2189 - val_mape: 2.4867 - val_mae: 34.2083\n",
            "\n",
            "Epoch 00026: val_loss did not improve from 1301.95869\n",
            "Epoch 27/2000\n",
            "264/264 [==============================] - 1s 3ms/step - loss: 968.9115 - mse: 968.9115 - mape: 1.8268 - mae: 24.7880 - val_loss: 1696.1627 - val_mse: 1696.1627 - val_mape: 2.4714 - val_mae: 34.0147\n",
            "\n",
            "Epoch 00027: val_loss did not improve from 1301.95869\n",
            "Epoch 28/2000\n",
            "264/264 [==============================] - 1s 4ms/step - loss: 940.9146 - mse: 940.9146 - mape: 1.7899 - mae: 24.2852 - val_loss: 1662.0910 - val_mse: 1662.0911 - val_mape: 2.4366 - val_mae: 33.5278\n",
            "\n",
            "Epoch 00028: val_loss did not improve from 1301.95869\n",
            "Epoch 29/2000\n",
            "264/264 [==============================] - 1s 5ms/step - loss: 918.3806 - mse: 918.3806 - mape: 1.7678 - mae: 23.9945 - val_loss: 1337.6852 - val_mse: 1337.6852 - val_mape: 2.2021 - val_mae: 30.1824\n",
            "\n",
            "Epoch 00029: val_loss did not improve from 1301.95869\n",
            "Epoch 30/2000\n",
            "264/264 [==============================] - 2s 6ms/step - loss: 908.6890 - mse: 908.6891 - mape: 1.7601 - mae: 23.8785 - val_loss: 1470.3121 - val_mse: 1470.3121 - val_mape: 2.3038 - val_mae: 31.6856\n",
            "\n",
            "Epoch 00030: val_loss did not improve from 1301.95869\n",
            "Epoch 31/2000\n",
            "264/264 [==============================] - 1s 5ms/step - loss: 845.7145 - mse: 845.7145 - mape: 1.6935 - mae: 22.9843 - val_loss: 1241.7536 - val_mse: 1241.7535 - val_mape: 2.1338 - val_mae: 29.2410\n",
            "\n",
            "Epoch 00031: val_loss improved from 1301.95869 to 1241.75359, saving model to /content/drive/My Drive/Colab Notebooks/Output/CNN/best_modelTunORI.h5\n",
            "Epoch 32/2000\n",
            "264/264 [==============================] - 1s 5ms/step - loss: 820.1498 - mse: 820.1498 - mape: 1.6843 - mae: 22.8317 - val_loss: 1725.5870 - val_mse: 1725.5869 - val_mape: 2.4923 - val_mae: 34.2763\n",
            "\n",
            "Epoch 00032: val_loss did not improve from 1241.75359\n",
            "Epoch 33/2000\n",
            "264/264 [==============================] - 1s 5ms/step - loss: 898.4632 - mse: 898.4633 - mape: 1.7570 - mae: 23.8071 - val_loss: 1533.1505 - val_mse: 1533.1504 - val_mape: 2.3561 - val_mae: 32.4065\n",
            "\n",
            "Epoch 00033: val_loss did not improve from 1241.75359\n",
            "Epoch 34/2000\n",
            "264/264 [==============================] - 1s 3ms/step - loss: 803.5750 - mse: 803.5750 - mape: 1.6501 - mae: 22.3825 - val_loss: 1399.9281 - val_mse: 1399.9281 - val_mape: 2.2532 - val_mae: 30.9479\n",
            "\n",
            "Epoch 00034: val_loss did not improve from 1241.75359\n",
            "Epoch 35/2000\n",
            "264/264 [==============================] - 1s 3ms/step - loss: 789.2352 - mse: 789.2352 - mape: 1.6445 - mae: 22.2871 - val_loss: 1582.5482 - val_mse: 1582.5482 - val_mape: 2.3844 - val_mae: 32.7871\n",
            "\n",
            "Epoch 00035: val_loss did not improve from 1241.75359\n",
            "Epoch 36/2000\n",
            "264/264 [==============================] - 1s 3ms/step - loss: 783.2014 - mse: 783.2014 - mape: 1.6352 - mae: 22.1679 - val_loss: 1530.1494 - val_mse: 1530.1493 - val_mape: 2.3529 - val_mae: 32.3355\n",
            "\n",
            "Epoch 00036: val_loss did not improve from 1241.75359\n",
            "Epoch 37/2000\n",
            "264/264 [==============================] - 1s 3ms/step - loss: 807.4558 - mse: 807.4559 - mape: 1.6498 - mae: 22.3686 - val_loss: 1455.2859 - val_mse: 1455.2860 - val_mape: 2.2838 - val_mae: 31.3026\n",
            "\n",
            "Epoch 00037: val_loss did not improve from 1241.75359\n",
            "Epoch 38/2000\n",
            "264/264 [==============================] - 1s 3ms/step - loss: 796.1907 - mse: 796.1907 - mape: 1.6408 - mae: 22.2225 - val_loss: 1636.2408 - val_mse: 1636.2407 - val_mape: 2.4391 - val_mae: 33.5583\n",
            "\n",
            "Epoch 00038: val_loss did not improve from 1241.75359\n",
            "Epoch 39/2000\n",
            "264/264 [==============================] - 1s 3ms/step - loss: 746.3532 - mse: 746.3533 - mape: 1.5879 - mae: 21.5200 - val_loss: 1557.9780 - val_mse: 1557.9781 - val_mape: 2.3603 - val_mae: 32.4091\n",
            "\n",
            "Epoch 00039: val_loss did not improve from 1241.75359\n",
            "Epoch 40/2000\n",
            "264/264 [==============================] - 1s 3ms/step - loss: 739.0052 - mse: 739.0051 - mape: 1.5770 - mae: 21.3766 - val_loss: 1188.9738 - val_mse: 1188.9738 - val_mape: 2.0815 - val_mae: 28.4115\n",
            "\n",
            "Epoch 00040: val_loss improved from 1241.75359 to 1188.97383, saving model to /content/drive/My Drive/Colab Notebooks/Output/CNN/best_modelTunORI.h5\n",
            "Epoch 41/2000\n",
            "264/264 [==============================] - 1s 4ms/step - loss: 736.5596 - mse: 736.5596 - mape: 1.5792 - mae: 21.3877 - val_loss: 1342.9485 - val_mse: 1342.9485 - val_mape: 2.2031 - val_mae: 30.2291\n",
            "\n",
            "Epoch 00041: val_loss did not improve from 1188.97383\n",
            "Epoch 42/2000\n",
            "264/264 [==============================] - 1s 3ms/step - loss: 704.6937 - mse: 704.6937 - mape: 1.5437 - mae: 20.9154 - val_loss: 1503.3657 - val_mse: 1503.3657 - val_mape: 2.3426 - val_mae: 32.1788\n",
            "\n",
            "Epoch 00042: val_loss did not improve from 1188.97383\n",
            "Epoch 43/2000\n",
            "264/264 [==============================] - 1s 3ms/step - loss: 662.6257 - mse: 662.6257 - mape: 1.4901 - mae: 20.2041 - val_loss: 1282.9782 - val_mse: 1282.9781 - val_mape: 2.1669 - val_mae: 29.7420\n",
            "\n",
            "Epoch 00043: val_loss did not improve from 1188.97383\n",
            "Epoch 44/2000\n",
            "264/264 [==============================] - 1s 3ms/step - loss: 655.0690 - mse: 655.0690 - mape: 1.4826 - mae: 20.0990 - val_loss: 1237.6131 - val_mse: 1237.6132 - val_mape: 2.1234 - val_mae: 29.1029\n",
            "\n",
            "Epoch 00044: val_loss did not improve from 1188.97383\n",
            "Epoch 45/2000\n",
            "264/264 [==============================] - 1s 3ms/step - loss: 655.4493 - mse: 655.4493 - mape: 1.4838 - mae: 20.1069 - val_loss: 1254.0876 - val_mse: 1254.0876 - val_mape: 2.1395 - val_mae: 29.3086\n",
            "\n",
            "Epoch 00045: val_loss did not improve from 1188.97383\n",
            "Epoch 46/2000\n",
            "264/264 [==============================] - 1s 3ms/step - loss: 664.7828 - mse: 664.7828 - mape: 1.5046 - mae: 20.3795 - val_loss: 1347.1538 - val_mse: 1347.1538 - val_mape: 2.2040 - val_mae: 30.1791\n",
            "\n",
            "Epoch 00046: val_loss did not improve from 1188.97383\n",
            "Epoch 47/2000\n",
            "264/264 [==============================] - 1s 4ms/step - loss: 661.4632 - mse: 661.4631 - mape: 1.4904 - mae: 20.1908 - val_loss: 1235.9550 - val_mse: 1235.9550 - val_mape: 2.1110 - val_mae: 28.8817\n",
            "\n",
            "Epoch 00047: val_loss did not improve from 1188.97383\n",
            "Epoch 48/2000\n",
            "264/264 [==============================] - 1s 3ms/step - loss: 645.7919 - mse: 645.7919 - mape: 1.4772 - mae: 20.0084 - val_loss: 1477.7097 - val_mse: 1477.7097 - val_mape: 2.3106 - val_mae: 31.6468\n",
            "\n",
            "Epoch 00048: val_loss did not improve from 1188.97383\n",
            "Epoch 49/2000\n",
            "264/264 [==============================] - 1s 3ms/step - loss: 684.1756 - mse: 684.1756 - mape: 1.5033 - mae: 20.3718 - val_loss: 1267.6338 - val_mse: 1267.6339 - val_mape: 2.1416 - val_mae: 29.3321\n",
            "\n",
            "Epoch 00049: val_loss did not improve from 1188.97383\n",
            "Epoch 50/2000\n",
            "264/264 [==============================] - 1s 3ms/step - loss: 659.4372 - mse: 659.4371 - mape: 1.4830 - mae: 20.0860 - val_loss: 1164.3111 - val_mse: 1164.3110 - val_mape: 2.0571 - val_mae: 28.1060\n",
            "\n",
            "Epoch 00050: val_loss improved from 1188.97383 to 1164.31113, saving model to /content/drive/My Drive/Colab Notebooks/Output/CNN/best_modelTunORI.h5\n",
            "Epoch 51/2000\n",
            "264/264 [==============================] - 1s 3ms/step - loss: 660.9479 - mse: 660.9479 - mape: 1.5058 - mae: 20.3744 - val_loss: 1185.4389 - val_mse: 1185.4390 - val_mape: 2.0730 - val_mae: 28.3369\n",
            "\n",
            "Epoch 00051: val_loss did not improve from 1164.31113\n",
            "Epoch 52/2000\n",
            "264/264 [==============================] - 1s 3ms/step - loss: 649.3930 - mse: 649.3930 - mape: 1.4843 - mae: 20.0768 - val_loss: 1488.9353 - val_mse: 1488.9353 - val_mape: 2.3218 - val_mae: 31.8812\n",
            "\n",
            "Epoch 00052: val_loss did not improve from 1164.31113\n",
            "Epoch 53/2000\n",
            "264/264 [==============================] - 1s 3ms/step - loss: 578.0188 - mse: 578.0187 - mape: 1.3885 - mae: 18.8113 - val_loss: 1267.4322 - val_mse: 1267.4321 - val_mape: 2.1421 - val_mae: 29.3315\n",
            "\n",
            "Epoch 00053: val_loss did not improve from 1164.31113\n",
            "Epoch 54/2000\n",
            "264/264 [==============================] - 1s 3ms/step - loss: 593.8586 - mse: 593.8586 - mape: 1.4079 - mae: 19.0638 - val_loss: 1119.6672 - val_mse: 1119.6672 - val_mape: 2.0207 - val_mae: 27.5999\n",
            "\n",
            "Epoch 00054: val_loss improved from 1164.31113 to 1119.66725, saving model to /content/drive/My Drive/Colab Notebooks/Output/CNN/best_modelTunORI.h5\n",
            "Epoch 55/2000\n",
            "264/264 [==============================] - 1s 3ms/step - loss: 622.0784 - mse: 622.0784 - mape: 1.4500 - mae: 19.6172 - val_loss: 1432.0663 - val_mse: 1432.0663 - val_mape: 2.2813 - val_mae: 31.3067\n",
            "\n",
            "Epoch 00055: val_loss did not improve from 1119.66725\n",
            "Epoch 56/2000\n",
            "264/264 [==============================] - 1s 3ms/step - loss: 577.0880 - mse: 577.0881 - mape: 1.3938 - mae: 18.8743 - val_loss: 1514.4083 - val_mse: 1514.4083 - val_mape: 2.3343 - val_mae: 32.0416\n",
            "\n",
            "Epoch 00056: val_loss did not improve from 1119.66725\n",
            "Epoch 57/2000\n",
            "264/264 [==============================] - 1s 3ms/step - loss: 571.2886 - mse: 571.2886 - mape: 1.3838 - mae: 18.7369 - val_loss: 1188.5454 - val_mse: 1188.5453 - val_mape: 2.0794 - val_mae: 28.4723\n",
            "\n",
            "Epoch 00057: val_loss did not improve from 1119.66725\n",
            "Epoch 58/2000\n",
            "264/264 [==============================] - 1s 3ms/step - loss: 554.4084 - mse: 554.4084 - mape: 1.3665 - mae: 18.4936 - val_loss: 1321.8005 - val_mse: 1321.8005 - val_mape: 2.1918 - val_mae: 30.0576\n",
            "\n",
            "Epoch 00058: val_loss did not improve from 1119.66725\n",
            "Epoch 59/2000\n",
            "264/264 [==============================] - 1s 3ms/step - loss: 550.7681 - mse: 550.7681 - mape: 1.3633 - mae: 18.4499 - val_loss: 1472.8548 - val_mse: 1472.8547 - val_mape: 2.3163 - val_mae: 31.8019\n",
            "\n",
            "Epoch 00059: val_loss did not improve from 1119.66725\n",
            "Epoch 60/2000\n",
            "264/264 [==============================] - 1s 3ms/step - loss: 518.0189 - mse: 518.0189 - mape: 1.3085 - mae: 17.7235 - val_loss: 1223.5486 - val_mse: 1223.5487 - val_mape: 2.1069 - val_mae: 28.8399\n",
            "\n",
            "Epoch 00060: val_loss did not improve from 1119.66725\n",
            "Epoch 61/2000\n",
            "264/264 [==============================] - 1s 3ms/step - loss: 546.1190 - mse: 546.1190 - mape: 1.3600 - mae: 18.4002 - val_loss: 1343.7289 - val_mse: 1343.7289 - val_mape: 2.2082 - val_mae: 30.2334\n",
            "\n",
            "Epoch 00061: val_loss did not improve from 1119.66725\n",
            "Epoch 62/2000\n",
            "264/264 [==============================] - 1s 4ms/step - loss: 545.5093 - mse: 545.5092 - mape: 1.3547 - mae: 18.3324 - val_loss: 1257.7218 - val_mse: 1257.7218 - val_mape: 2.1321 - val_mae: 29.1653\n",
            "\n",
            "Epoch 00062: val_loss did not improve from 1119.66725\n",
            "Epoch 63/2000\n",
            "264/264 [==============================] - 1s 3ms/step - loss: 551.2709 - mse: 551.2709 - mape: 1.3643 - mae: 18.4597 - val_loss: 1281.9136 - val_mse: 1281.9137 - val_mape: 2.1555 - val_mae: 29.5183\n",
            "\n",
            "Epoch 00063: val_loss did not improve from 1119.66725\n",
            "Epoch 64/2000\n",
            "264/264 [==============================] - 1s 3ms/step - loss: 556.1470 - mse: 556.1471 - mape: 1.3715 - mae: 18.5609 - val_loss: 1180.8676 - val_mse: 1180.8677 - val_mape: 2.0609 - val_mae: 28.1064\n",
            "\n",
            "Epoch 00064: val_loss did not improve from 1119.66725\n",
            "Epoch 65/2000\n",
            "264/264 [==============================] - 1s 3ms/step - loss: 624.3388 - mse: 624.3388 - mape: 1.4642 - mae: 19.7880 - val_loss: 1302.7597 - val_mse: 1302.7598 - val_mape: 2.1766 - val_mae: 29.8190\n",
            "\n",
            "Epoch 00065: val_loss did not improve from 1119.66725\n",
            "Epoch 66/2000\n",
            "264/264 [==============================] - 1s 3ms/step - loss: 525.4709 - mse: 525.4709 - mape: 1.3297 - mae: 17.9933 - val_loss: 1249.4670 - val_mse: 1249.4669 - val_mape: 2.1300 - val_mae: 29.1728\n",
            "\n",
            "Epoch 00066: val_loss did not improve from 1119.66725\n",
            "Epoch 67/2000\n",
            "264/264 [==============================] - 1s 3ms/step - loss: 524.8626 - mse: 524.8626 - mape: 1.3384 - mae: 18.1037 - val_loss: 1653.6148 - val_mse: 1653.6147 - val_mape: 2.4587 - val_mae: 33.7779\n",
            "\n",
            "Epoch 00067: val_loss did not improve from 1119.66725\n",
            "Epoch 68/2000\n",
            "264/264 [==============================] - 1s 3ms/step - loss: 547.4432 - mse: 547.4432 - mape: 1.3644 - mae: 18.4531 - val_loss: 1401.0582 - val_mse: 1401.0581 - val_mape: 2.2558 - val_mae: 30.9059\n",
            "\n",
            "Epoch 00068: val_loss did not improve from 1119.66725\n",
            "Epoch 69/2000\n",
            "264/264 [==============================] - 1s 3ms/step - loss: 546.6978 - mse: 546.6978 - mape: 1.3695 - mae: 18.5147 - val_loss: 1387.7369 - val_mse: 1387.7369 - val_mape: 2.2465 - val_mae: 30.8093\n",
            "\n",
            "Epoch 00069: val_loss did not improve from 1119.66725\n",
            "Epoch 70/2000\n",
            "264/264 [==============================] - 1s 3ms/step - loss: 520.2689 - mse: 520.2689 - mape: 1.3256 - mae: 17.9319 - val_loss: 1233.9628 - val_mse: 1233.9628 - val_mape: 2.1191 - val_mae: 29.0167\n",
            "\n",
            "Epoch 00070: val_loss did not improve from 1119.66725\n",
            "Epoch 71/2000\n",
            "264/264 [==============================] - 1s 3ms/step - loss: 469.8020 - mse: 469.8020 - mape: 1.2587 - mae: 17.0305 - val_loss: 1268.6272 - val_mse: 1268.6273 - val_mape: 2.1426 - val_mae: 29.3287\n",
            "\n",
            "Epoch 00071: val_loss did not improve from 1119.66725\n",
            "Epoch 72/2000\n",
            "264/264 [==============================] - 1s 3ms/step - loss: 463.0834 - mse: 463.0834 - mape: 1.2455 - mae: 16.8498 - val_loss: 1357.1972 - val_mse: 1357.1971 - val_mape: 2.2236 - val_mae: 30.4694\n",
            "\n",
            "Epoch 00072: val_loss did not improve from 1119.66725\n",
            "Epoch 73/2000\n",
            "264/264 [==============================] - 1s 3ms/step - loss: 447.3267 - mse: 447.3267 - mape: 1.2307 - mae: 16.6538 - val_loss: 1223.6373 - val_mse: 1223.6372 - val_mape: 2.1130 - val_mae: 28.9282\n",
            "\n",
            "Epoch 00073: val_loss did not improve from 1119.66725\n",
            "Epoch 74/2000\n",
            "264/264 [==============================] - 1s 3ms/step - loss: 477.8435 - mse: 477.8435 - mape: 1.2623 - mae: 17.0711 - val_loss: 1262.8633 - val_mse: 1262.8633 - val_mape: 2.1319 - val_mae: 29.1656\n",
            "\n",
            "Epoch 00074: val_loss did not improve from 1119.66725\n",
            "Epoch 75/2000\n",
            "264/264 [==============================] - 1s 3ms/step - loss: 507.4673 - mse: 507.4673 - mape: 1.3054 - mae: 17.6522 - val_loss: 1224.3376 - val_mse: 1224.3375 - val_mape: 2.1006 - val_mae: 28.7164\n",
            "\n",
            "Epoch 00075: val_loss did not improve from 1119.66725\n",
            "Epoch 76/2000\n",
            "264/264 [==============================] - 1s 3ms/step - loss: 485.8956 - mse: 485.8955 - mape: 1.2826 - mae: 17.3375 - val_loss: 1294.9811 - val_mse: 1294.9811 - val_mape: 2.1654 - val_mae: 29.6557\n",
            "\n",
            "Epoch 00076: val_loss did not improve from 1119.66725\n",
            "Epoch 77/2000\n",
            "264/264 [==============================] - 1s 3ms/step - loss: 451.4378 - mse: 451.4378 - mape: 1.2317 - mae: 16.6628 - val_loss: 1443.8045 - val_mse: 1443.8046 - val_mape: 2.2885 - val_mae: 31.3715\n",
            "\n",
            "Epoch 00077: val_loss did not improve from 1119.66725\n",
            "Epoch 78/2000\n",
            "264/264 [==============================] - 1s 3ms/step - loss: 456.3945 - mse: 456.3945 - mape: 1.2336 - mae: 16.6948 - val_loss: 1292.0501 - val_mse: 1292.0500 - val_mape: 2.1638 - val_mae: 29.6299\n",
            "\n",
            "Epoch 00078: val_loss did not improve from 1119.66725\n",
            "Epoch 79/2000\n",
            "264/264 [==============================] - 1s 3ms/step - loss: 444.7440 - mse: 444.7440 - mape: 1.2259 - mae: 16.5820 - val_loss: 1199.7836 - val_mse: 1199.7837 - val_mape: 2.0826 - val_mae: 28.4482\n",
            "\n",
            "Epoch 00079: val_loss did not improve from 1119.66725\n",
            "Epoch 80/2000\n",
            "264/264 [==============================] - 1s 3ms/step - loss: 493.5245 - mse: 493.5245 - mape: 1.2974 - mae: 17.5306 - val_loss: 1540.2357 - val_mse: 1540.2357 - val_mape: 2.3625 - val_mae: 32.3848\n",
            "\n",
            "Epoch 00080: val_loss did not improve from 1119.66725\n",
            "Epoch 81/2000\n",
            "264/264 [==============================] - 1s 3ms/step - loss: 488.2344 - mse: 488.2344 - mape: 1.2876 - mae: 17.4098 - val_loss: 1377.2401 - val_mse: 1377.2401 - val_mape: 2.2410 - val_mae: 30.7171\n",
            "\n",
            "Epoch 00081: val_loss did not improve from 1119.66725\n",
            "Epoch 82/2000\n",
            "264/264 [==============================] - 1s 3ms/step - loss: 460.2794 - mse: 460.2794 - mape: 1.2520 - mae: 16.9251 - val_loss: 1310.6534 - val_mse: 1310.6536 - val_mape: 2.1819 - val_mae: 29.8861\n",
            "\n",
            "Epoch 00082: val_loss did not improve from 1119.66725\n",
            "Epoch 83/2000\n",
            "264/264 [==============================] - 1s 3ms/step - loss: 463.0313 - mse: 463.0312 - mape: 1.2562 - mae: 16.9786 - val_loss: 1531.4446 - val_mse: 1531.4447 - val_mape: 2.3679 - val_mae: 32.4781\n",
            "\n",
            "Epoch 00083: val_loss did not improve from 1119.66725\n",
            "Epoch 84/2000\n",
            "264/264 [==============================] - 1s 3ms/step - loss: 474.5711 - mse: 474.5711 - mape: 1.2624 - mae: 17.0690 - val_loss: 1501.9213 - val_mse: 1501.9213 - val_mape: 2.3336 - val_mae: 31.9931\n",
            "\n",
            "Epoch 00084: val_loss did not improve from 1119.66725\n",
            "Epoch 85/2000\n",
            "264/264 [==============================] - 1s 3ms/step - loss: 441.5394 - mse: 441.5394 - mape: 1.2215 - mae: 16.5103 - val_loss: 1327.0574 - val_mse: 1327.0574 - val_mape: 2.1967 - val_mae: 30.0930\n",
            "\n",
            "Epoch 00085: val_loss did not improve from 1119.66725\n",
            "Epoch 86/2000\n",
            "264/264 [==============================] - 1s 3ms/step - loss: 444.1886 - mse: 444.1886 - mape: 1.2289 - mae: 16.5996 - val_loss: 1460.4565 - val_mse: 1460.4564 - val_mape: 2.2914 - val_mae: 31.3970\n",
            "\n",
            "Epoch 00086: val_loss did not improve from 1119.66725\n",
            "Epoch 87/2000\n",
            "264/264 [==============================] - 1s 3ms/step - loss: 429.5738 - mse: 429.5739 - mape: 1.2034 - mae: 16.2676 - val_loss: 1416.7697 - val_mse: 1416.7697 - val_mape: 2.2608 - val_mae: 30.9539\n",
            "\n",
            "Epoch 00087: val_loss did not improve from 1119.66725\n",
            "Epoch 88/2000\n",
            "264/264 [==============================] - 1s 3ms/step - loss: 437.9030 - mse: 437.9030 - mape: 1.2219 - mae: 16.5151 - val_loss: 1452.8842 - val_mse: 1452.8840 - val_mape: 2.2906 - val_mae: 31.4085\n",
            "\n",
            "Epoch 00088: val_loss did not improve from 1119.66725\n",
            "Epoch 89/2000\n",
            "264/264 [==============================] - 1s 3ms/step - loss: 428.1212 - mse: 428.1212 - mape: 1.2059 - mae: 16.3034 - val_loss: 1343.9589 - val_mse: 1343.9589 - val_mape: 2.2027 - val_mae: 30.1475\n",
            "\n",
            "Epoch 00089: val_loss did not improve from 1119.66725\n",
            "Epoch 90/2000\n",
            "264/264 [==============================] - 1s 3ms/step - loss: 455.1181 - mse: 455.1181 - mape: 1.2365 - mae: 16.7083 - val_loss: 1159.7822 - val_mse: 1159.7822 - val_mape: 2.0512 - val_mae: 28.0279\n",
            "\n",
            "Epoch 00090: val_loss did not improve from 1119.66725\n",
            "Epoch 91/2000\n",
            "264/264 [==============================] - 1s 3ms/step - loss: 442.0095 - mse: 442.0095 - mape: 1.2268 - mae: 16.5785 - val_loss: 1275.1715 - val_mse: 1275.1715 - val_mape: 2.1449 - val_mae: 29.3157\n",
            "\n",
            "Epoch 00091: val_loss did not improve from 1119.66725\n",
            "Epoch 92/2000\n",
            "264/264 [==============================] - 1s 3ms/step - loss: 448.8710 - mse: 448.8709 - mape: 1.2343 - mae: 16.6758 - val_loss: 1388.7680 - val_mse: 1388.7679 - val_mape: 2.2418 - val_mae: 30.7020\n",
            "\n",
            "Epoch 00092: val_loss did not improve from 1119.66725\n",
            "Epoch 93/2000\n",
            "264/264 [==============================] - 1s 3ms/step - loss: 449.1805 - mse: 449.1805 - mape: 1.2452 - mae: 16.8280 - val_loss: 1411.6366 - val_mse: 1411.6366 - val_mape: 2.2509 - val_mae: 30.8055\n",
            "\n",
            "Epoch 00093: val_loss did not improve from 1119.66725\n",
            "Epoch 94/2000\n",
            "264/264 [==============================] - 1s 3ms/step - loss: 464.3862 - mse: 464.3862 - mape: 1.2630 - mae: 17.0641 - val_loss: 1267.4757 - val_mse: 1267.4757 - val_mape: 2.1308 - val_mae: 29.1030\n",
            "\n",
            "Epoch 00094: val_loss did not improve from 1119.66725\n",
            "Epoch 95/2000\n",
            "264/264 [==============================] - 1s 3ms/step - loss: 498.9491 - mse: 498.9491 - mape: 1.3087 - mae: 17.6632 - val_loss: 1224.1085 - val_mse: 1224.1085 - val_mape: 2.1027 - val_mae: 28.7455\n",
            "\n",
            "Epoch 00095: val_loss did not improve from 1119.66725\n",
            "Epoch 96/2000\n",
            "264/264 [==============================] - 1s 3ms/step - loss: 455.4253 - mse: 455.4253 - mape: 1.2517 - mae: 16.9074 - val_loss: 1412.8157 - val_mse: 1412.8158 - val_mape: 2.2577 - val_mae: 30.9007\n",
            "\n",
            "Epoch 00096: val_loss did not improve from 1119.66725\n",
            "Epoch 97/2000\n",
            "264/264 [==============================] - 1s 3ms/step - loss: 433.7948 - mse: 433.7948 - mape: 1.2194 - mae: 16.4695 - val_loss: 1529.7345 - val_mse: 1529.7345 - val_mape: 2.3690 - val_mae: 32.4828\n",
            "\n",
            "Epoch 00097: val_loss did not improve from 1119.66725\n",
            "Epoch 98/2000\n",
            "264/264 [==============================] - 1s 3ms/step - loss: 437.1952 - mse: 437.1953 - mape: 1.2260 - mae: 16.5707 - val_loss: 1467.3044 - val_mse: 1467.3044 - val_mape: 2.3040 - val_mae: 31.5456\n",
            "\n",
            "Epoch 00098: val_loss did not improve from 1119.66725\n",
            "Epoch 99/2000\n",
            "264/264 [==============================] - 1s 3ms/step - loss: 457.5178 - mse: 457.5178 - mape: 1.2568 - mae: 16.9731 - val_loss: 1447.9650 - val_mse: 1447.9650 - val_mape: 2.2620 - val_mae: 30.9393\n",
            "\n",
            "Epoch 00099: val_loss did not improve from 1119.66725\n",
            "Epoch 100/2000\n",
            "264/264 [==============================] - 1s 3ms/step - loss: 462.5579 - mse: 462.5579 - mape: 1.2539 - mae: 16.9356 - val_loss: 1445.8542 - val_mse: 1445.8542 - val_mape: 2.2924 - val_mae: 31.3914\n",
            "\n",
            "Epoch 00100: val_loss did not improve from 1119.66725\n",
            "Epoch 101/2000\n",
            "264/264 [==============================] - 1s 3ms/step - loss: 377.6581 - mse: 377.6581 - mape: 1.1357 - mae: 15.3504 - val_loss: 1467.2997 - val_mse: 1467.2996 - val_mape: 2.3066 - val_mae: 31.6085\n",
            "\n",
            "Epoch 00101: val_loss did not improve from 1119.66725\n",
            "Epoch 102/2000\n",
            "264/264 [==============================] - 1s 3ms/step - loss: 398.6716 - mse: 398.6716 - mape: 1.1676 - mae: 15.7765 - val_loss: 1236.5423 - val_mse: 1236.5424 - val_mape: 2.1133 - val_mae: 28.8952\n",
            "\n",
            "Epoch 00102: val_loss did not improve from 1119.66725\n",
            "Epoch 103/2000\n",
            "264/264 [==============================] - 1s 3ms/step - loss: 382.1653 - mse: 382.1653 - mape: 1.1403 - mae: 15.4067 - val_loss: 1230.1835 - val_mse: 1230.1835 - val_mape: 2.1098 - val_mae: 28.8655\n",
            "\n",
            "Epoch 00103: val_loss did not improve from 1119.66725\n",
            "Epoch 104/2000\n",
            "264/264 [==============================] - 1s 3ms/step - loss: 354.5198 - mse: 354.5197 - mape: 1.0984 - mae: 14.8386 - val_loss: 1262.8887 - val_mse: 1262.8885 - val_mape: 2.1550 - val_mae: 29.5192\n",
            "\n",
            "Epoch 00104: val_loss did not improve from 1119.66725\n",
            "Epoch 105/2000\n",
            "264/264 [==============================] - 1s 3ms/step - loss: 361.4451 - mse: 361.4450 - mape: 1.1135 - mae: 15.0422 - val_loss: 1476.9100 - val_mse: 1476.9099 - val_mape: 2.3117 - val_mae: 31.6481\n",
            "\n",
            "Epoch 00105: val_loss did not improve from 1119.66725\n",
            "Epoch 106/2000\n",
            "264/264 [==============================] - 1s 3ms/step - loss: 397.9135 - mse: 397.9136 - mape: 1.1610 - mae: 15.6853 - val_loss: 1369.3148 - val_mse: 1369.3148 - val_mape: 2.2190 - val_mae: 30.3743\n",
            "\n",
            "Epoch 00106: val_loss did not improve from 1119.66725\n",
            "Epoch 107/2000\n",
            "264/264 [==============================] - 1s 3ms/step - loss: 429.6244 - mse: 429.6245 - mape: 1.2109 - mae: 16.3512 - val_loss: 1382.4846 - val_mse: 1382.4845 - val_mape: 2.2206 - val_mae: 30.3629\n",
            "\n",
            "Epoch 00107: val_loss did not improve from 1119.66725\n",
            "Epoch 108/2000\n",
            "264/264 [==============================] - 1s 3ms/step - loss: 439.6581 - mse: 439.6581 - mape: 1.2318 - mae: 16.6298 - val_loss: 1240.8471 - val_mse: 1240.8470 - val_mape: 2.1306 - val_mae: 29.1519\n",
            "\n",
            "Epoch 00108: val_loss did not improve from 1119.66725\n",
            "Epoch 109/2000\n",
            "264/264 [==============================] - 1s 3ms/step - loss: 376.6292 - mse: 376.6292 - mape: 1.1325 - mae: 15.2933 - val_loss: 1418.6334 - val_mse: 1418.6333 - val_mape: 2.2789 - val_mae: 31.2166\n",
            "\n",
            "Epoch 00109: val_loss did not improve from 1119.66725\n",
            "Epoch 110/2000\n",
            "264/264 [==============================] - 1s 3ms/step - loss: 382.6928 - mse: 382.6928 - mape: 1.1530 - mae: 15.5677 - val_loss: 1413.4371 - val_mse: 1413.4371 - val_mape: 2.2562 - val_mae: 30.8644\n",
            "\n",
            "Epoch 00110: val_loss did not improve from 1119.66725\n",
            "Epoch 111/2000\n",
            "264/264 [==============================] - 1s 3ms/step - loss: 403.0352 - mse: 403.0352 - mape: 1.1779 - mae: 15.8997 - val_loss: 1296.6180 - val_mse: 1296.6179 - val_mape: 2.1648 - val_mae: 29.5843\n",
            "\n",
            "Epoch 00111: val_loss did not improve from 1119.66725\n",
            "Epoch 112/2000\n",
            "264/264 [==============================] - 1s 3ms/step - loss: 462.9927 - mse: 462.9927 - mape: 1.2660 - mae: 17.0843 - val_loss: 1371.5432 - val_mse: 1371.5433 - val_mape: 2.2270 - val_mae: 30.4707\n",
            "\n",
            "Epoch 00112: val_loss did not improve from 1119.66725\n",
            "Epoch 113/2000\n",
            "264/264 [==============================] - 1s 3ms/step - loss: 440.3892 - mse: 440.3892 - mape: 1.2331 - mae: 16.6446 - val_loss: 1425.0548 - val_mse: 1425.0548 - val_mape: 2.2686 - val_mae: 31.0487\n",
            "\n",
            "Epoch 00113: val_loss did not improve from 1119.66725\n",
            "Epoch 114/2000\n",
            "264/264 [==============================] - 1s 3ms/step - loss: 397.6854 - mse: 397.6854 - mape: 1.1686 - mae: 15.7773 - val_loss: 1333.7147 - val_mse: 1333.7147 - val_mape: 2.1898 - val_mae: 29.9388\n",
            "\n",
            "Epoch 00114: val_loss did not improve from 1119.66725\n",
            "Epoch 115/2000\n",
            "264/264 [==============================] - 1s 3ms/step - loss: 428.0627 - mse: 428.0627 - mape: 1.2170 - mae: 16.4174 - val_loss: 1510.3330 - val_mse: 1510.3330 - val_mape: 2.3413 - val_mae: 32.0369\n",
            "\n",
            "Epoch 00115: val_loss did not improve from 1119.66725\n",
            "Epoch 116/2000\n",
            "264/264 [==============================] - 1s 3ms/step - loss: 441.1848 - mse: 441.1848 - mape: 1.2338 - mae: 16.6475 - val_loss: 1444.3827 - val_mse: 1444.3828 - val_mape: 2.2756 - val_mae: 31.1317\n",
            "\n",
            "Epoch 00116: val_loss did not improve from 1119.66725\n",
            "Epoch 117/2000\n",
            "264/264 [==============================] - 1s 3ms/step - loss: 480.5700 - mse: 480.5700 - mape: 1.2832 - mae: 17.3076 - val_loss: 1521.3330 - val_mse: 1521.3330 - val_mape: 2.3436 - val_mae: 32.0871\n",
            "\n",
            "Epoch 00117: val_loss did not improve from 1119.66725\n",
            "Epoch 118/2000\n",
            "264/264 [==============================] - 1s 3ms/step - loss: 458.2279 - mse: 458.2279 - mape: 1.2651 - mae: 17.0703 - val_loss: 1296.4999 - val_mse: 1296.4999 - val_mape: 2.1553 - val_mae: 29.4264\n",
            "\n",
            "Epoch 00118: val_loss did not improve from 1119.66725\n",
            "Epoch 119/2000\n",
            "264/264 [==============================] - 1s 3ms/step - loss: 416.9925 - mse: 416.9925 - mape: 1.1982 - mae: 16.1669 - val_loss: 1307.6826 - val_mse: 1307.6825 - val_mape: 2.1722 - val_mae: 29.6882\n",
            "\n",
            "Epoch 00119: val_loss did not improve from 1119.66725\n",
            "Epoch 120/2000\n",
            "264/264 [==============================] - 1s 3ms/step - loss: 448.1990 - mse: 448.1990 - mape: 1.2403 - mae: 16.7329 - val_loss: 1521.8567 - val_mse: 1521.8568 - val_mape: 2.3346 - val_mae: 31.9533\n",
            "\n",
            "Epoch 00120: val_loss did not improve from 1119.66725\n",
            "Epoch 121/2000\n",
            "264/264 [==============================] - 1s 3ms/step - loss: 431.1059 - mse: 431.1059 - mape: 1.2164 - mae: 16.4141 - val_loss: 1312.7549 - val_mse: 1312.7549 - val_mape: 2.1784 - val_mae: 29.8039\n",
            "\n",
            "Epoch 00121: val_loss did not improve from 1119.66725\n",
            "Epoch 122/2000\n",
            "264/264 [==============================] - 1s 3ms/step - loss: 395.1505 - mse: 395.1505 - mape: 1.1592 - mae: 15.6444 - val_loss: 1386.5151 - val_mse: 1386.5150 - val_mape: 2.2335 - val_mae: 30.5678\n",
            "\n",
            "Epoch 00122: val_loss did not improve from 1119.66725\n",
            "Epoch 123/2000\n",
            "264/264 [==============================] - 1s 3ms/step - loss: 360.4980 - mse: 360.4980 - mape: 1.1122 - mae: 15.0189 - val_loss: 1576.3182 - val_mse: 1576.3184 - val_mape: 2.3701 - val_mae: 32.4382\n",
            "\n",
            "Epoch 00123: val_loss did not improve from 1119.66725\n",
            "Epoch 124/2000\n",
            "264/264 [==============================] - 1s 3ms/step - loss: 383.8713 - mse: 383.8713 - mape: 1.1458 - mae: 15.4640 - val_loss: 1355.0030 - val_mse: 1355.0029 - val_mape: 2.2214 - val_mae: 30.4111\n",
            "\n",
            "Epoch 00124: val_loss did not improve from 1119.66725\n",
            "Epoch 125/2000\n",
            "264/264 [==============================] - 1s 3ms/step - loss: 360.7379 - mse: 360.7379 - mape: 1.1156 - mae: 15.0563 - val_loss: 1509.0877 - val_mse: 1509.0878 - val_mape: 2.3430 - val_mae: 32.0994\n",
            "\n",
            "Epoch 00125: val_loss did not improve from 1119.66725\n",
            "Epoch 126/2000\n",
            "264/264 [==============================] - 1s 3ms/step - loss: 414.3837 - mse: 414.3837 - mape: 1.2024 - mae: 16.2210 - val_loss: 1389.1912 - val_mse: 1389.1913 - val_mape: 2.2447 - val_mae: 30.7052\n",
            "\n",
            "Epoch 00126: val_loss did not improve from 1119.66725\n",
            "Epoch 127/2000\n",
            "264/264 [==============================] - 1s 3ms/step - loss: 427.0167 - mse: 427.0167 - mape: 1.2148 - mae: 16.3872 - val_loss: 1481.8188 - val_mse: 1481.8188 - val_mape: 2.3092 - val_mae: 31.5096\n",
            "\n",
            "Epoch 00127: val_loss did not improve from 1119.66725\n",
            "Epoch 128/2000\n",
            "264/264 [==============================] - 1s 3ms/step - loss: 503.4936 - mse: 503.4936 - mape: 1.3204 - mae: 17.8084 - val_loss: 1414.2906 - val_mse: 1414.2905 - val_mape: 2.2532 - val_mae: 30.7983\n",
            "\n",
            "Epoch 00128: val_loss did not improve from 1119.66725\n",
            "Epoch 129/2000\n",
            "264/264 [==============================] - 1s 3ms/step - loss: 393.4700 - mse: 393.4701 - mape: 1.1634 - mae: 15.6944 - val_loss: 1258.2621 - val_mse: 1258.2622 - val_mape: 2.1223 - val_mae: 28.9992\n",
            "\n",
            "Epoch 00129: val_loss did not improve from 1119.66725\n",
            "Epoch 130/2000\n",
            "264/264 [==============================] - 1s 3ms/step - loss: 351.8175 - mse: 351.8175 - mape: 1.1070 - mae: 14.9413 - val_loss: 1499.2763 - val_mse: 1499.2762 - val_mape: 2.3235 - val_mae: 31.8142\n",
            "\n",
            "Epoch 00130: val_loss did not improve from 1119.66725\n",
            "Epoch 131/2000\n",
            "264/264 [==============================] - 1s 3ms/step - loss: 15225.0366 - mse: 15225.0381 - mape: 6.6834 - mae: 89.9908 - val_loss: 15582.6262 - val_mse: 15582.6270 - val_mape: 7.0227 - val_mae: 95.4123\n",
            "\n",
            "Epoch 00131: val_loss did not improve from 1119.66725\n",
            "Epoch 132/2000\n",
            "264/264 [==============================] - 1s 3ms/step - loss: 9014.5061 - mse: 9014.5068 - mape: 5.5772 - mae: 75.0991 - val_loss: 4019.1260 - val_mse: 4019.1260 - val_mape: 3.7837 - val_mae: 51.4701\n",
            "\n",
            "Epoch 00132: val_loss did not improve from 1119.66725\n",
            "Epoch 133/2000\n",
            "264/264 [==============================] - 1s 3ms/step - loss: 8263.1948 - mse: 8263.1943 - mape: 5.3104 - mae: 71.4838 - val_loss: 8926.1638 - val_mse: 8926.1631 - val_mape: 5.6170 - val_mae: 76.1049\n",
            "\n",
            "Epoch 00133: val_loss did not improve from 1119.66725\n",
            "Epoch 134/2000\n",
            "264/264 [==============================] - 1s 3ms/step - loss: 5687.6725 - mse: 5687.6729 - mape: 4.4134 - mae: 59.4074 - val_loss: 3825.3069 - val_mse: 3825.3071 - val_mape: 3.5560 - val_mae: 48.2463\n",
            "\n",
            "Epoch 00134: val_loss did not improve from 1119.66725\n",
            "Epoch 135/2000\n",
            "264/264 [==============================] - 1s 3ms/step - loss: 2539.8549 - mse: 2539.8550 - mape: 2.9992 - mae: 40.3691 - val_loss: 2045.6040 - val_mse: 2045.6040 - val_mape: 2.6952 - val_mae: 36.7435\n",
            "\n",
            "Epoch 00135: val_loss did not improve from 1119.66725\n",
            "Epoch 136/2000\n",
            "264/264 [==============================] - 1s 3ms/step - loss: 1226.5383 - mse: 1226.5382 - mape: 2.0551 - mae: 27.6806 - val_loss: 1632.0048 - val_mse: 1632.0049 - val_mape: 2.4225 - val_mae: 33.0947\n",
            "\n",
            "Epoch 00136: val_loss did not improve from 1119.66725\n",
            "Epoch 137/2000\n",
            "264/264 [==============================] - 1s 3ms/step - loss: 713.6846 - mse: 713.6846 - mape: 1.5675 - mae: 21.1257 - val_loss: 1618.8798 - val_mse: 1618.8798 - val_mape: 2.3905 - val_mae: 32.6800\n",
            "\n",
            "Epoch 00137: val_loss did not improve from 1119.66725\n",
            "Epoch 138/2000\n",
            "264/264 [==============================] - 1s 3ms/step - loss: 494.2466 - mse: 494.2466 - mape: 1.3160 - mae: 17.7412 - val_loss: 1400.3524 - val_mse: 1400.3523 - val_mape: 2.2485 - val_mae: 30.7633\n",
            "\n",
            "Epoch 00138: val_loss did not improve from 1119.66725\n",
            "Epoch 139/2000\n",
            "264/264 [==============================] - 1s 3ms/step - loss: 385.9717 - mse: 385.9717 - mape: 1.1533 - mae: 15.5670 - val_loss: 1477.5965 - val_mse: 1477.5964 - val_mape: 2.3321 - val_mae: 31.9744\n",
            "\n",
            "Epoch 00139: val_loss did not improve from 1119.66725\n",
            "Epoch 140/2000\n",
            "264/264 [==============================] - 1s 3ms/step - loss: 367.8927 - mse: 367.8926 - mape: 1.1192 - mae: 15.1110 - val_loss: 1367.5271 - val_mse: 1367.5271 - val_mape: 2.2332 - val_mae: 30.5894\n",
            "\n",
            "Epoch 00140: val_loss did not improve from 1119.66725\n",
            "Epoch 141/2000\n",
            "264/264 [==============================] - 1s 3ms/step - loss: 343.6849 - mse: 343.6849 - mape: 1.0895 - mae: 14.7095 - val_loss: 1294.3911 - val_mse: 1294.3912 - val_mape: 2.1574 - val_mae: 29.4839\n",
            "\n",
            "Epoch 00141: val_loss did not improve from 1119.66725\n",
            "Epoch 142/2000\n",
            "264/264 [==============================] - 1s 3ms/step - loss: 386.5176 - mse: 386.5176 - mape: 1.1490 - mae: 15.5032 - val_loss: 1453.3116 - val_mse: 1453.3115 - val_mape: 2.2940 - val_mae: 31.4222\n",
            "\n",
            "Epoch 00142: val_loss did not improve from 1119.66725\n",
            "Epoch 143/2000\n",
            "264/264 [==============================] - 1s 3ms/step - loss: 347.4678 - mse: 347.4678 - mape: 1.0920 - mae: 14.7467 - val_loss: 1165.3963 - val_mse: 1165.3962 - val_mape: 2.0595 - val_mae: 28.1659\n",
            "\n",
            "Epoch 00143: val_loss did not improve from 1119.66725\n",
            "Epoch 144/2000\n",
            "264/264 [==============================] - 1s 3ms/step - loss: 324.7208 - mse: 324.7207 - mape: 1.0554 - mae: 14.2491 - val_loss: 1335.8061 - val_mse: 1335.8059 - val_mape: 2.1974 - val_mae: 30.0939\n",
            "\n",
            "Epoch 00144: val_loss did not improve from 1119.66725\n",
            "Epoch 145/2000\n",
            "264/264 [==============================] - 1s 3ms/step - loss: 336.9280 - mse: 336.9279 - mape: 1.0687 - mae: 14.4307 - val_loss: 1363.7441 - val_mse: 1363.7441 - val_mape: 2.2176 - val_mae: 30.3429\n",
            "\n",
            "Epoch 00145: val_loss did not improve from 1119.66725\n",
            "Epoch 146/2000\n",
            "264/264 [==============================] - 1s 3ms/step - loss: 354.3626 - mse: 354.3626 - mape: 1.1039 - mae: 14.8954 - val_loss: 1448.4711 - val_mse: 1448.4712 - val_mape: 2.2964 - val_mae: 31.4576\n",
            "\n",
            "Epoch 00146: val_loss did not improve from 1119.66725\n",
            "Epoch 147/2000\n",
            "264/264 [==============================] - 1s 3ms/step - loss: 400.5333 - mse: 400.5333 - mape: 1.1678 - mae: 15.7653 - val_loss: 1242.4872 - val_mse: 1242.4872 - val_mape: 2.1107 - val_mae: 28.8336\n",
            "\n",
            "Epoch 00147: val_loss did not improve from 1119.66725\n",
            "Epoch 148/2000\n",
            "264/264 [==============================] - 1s 3ms/step - loss: 382.3088 - mse: 382.3089 - mape: 1.1509 - mae: 15.5225 - val_loss: 1397.7650 - val_mse: 1397.7649 - val_mape: 2.2484 - val_mae: 30.7558\n",
            "\n",
            "Epoch 00148: val_loss did not improve from 1119.66725\n",
            "Epoch 149/2000\n",
            "264/264 [==============================] - 1s 3ms/step - loss: 346.1888 - mse: 346.1888 - mape: 1.0941 - mae: 14.7715 - val_loss: 1281.5406 - val_mse: 1281.5406 - val_mape: 2.1662 - val_mae: 29.6565\n",
            "\n",
            "Epoch 00149: val_loss did not improve from 1119.66725\n",
            "Epoch 150/2000\n",
            "264/264 [==============================] - 1s 3ms/step - loss: 318.6293 - mse: 318.6293 - mape: 1.0470 - mae: 14.1343 - val_loss: 1409.2052 - val_mse: 1409.2052 - val_mape: 2.2646 - val_mae: 31.0073\n",
            "\n",
            "Epoch 00150: val_loss did not improve from 1119.66725\n",
            "Epoch 151/2000\n",
            "264/264 [==============================] - 1s 3ms/step - loss: 329.6440 - mse: 329.6440 - mape: 1.0641 - mae: 14.3641 - val_loss: 1213.9030 - val_mse: 1213.9031 - val_mape: 2.0978 - val_mae: 28.6818\n",
            "\n",
            "Epoch 00151: val_loss did not improve from 1119.66725\n",
            "Epoch 152/2000\n",
            "264/264 [==============================] - 1s 3ms/step - loss: 353.0813 - mse: 353.0813 - mape: 1.1037 - mae: 14.8935 - val_loss: 1200.8986 - val_mse: 1200.8986 - val_mape: 2.0841 - val_mae: 28.4919\n",
            "\n",
            "Epoch 00152: val_loss did not improve from 1119.66725\n",
            "Epoch 153/2000\n",
            "264/264 [==============================] - 1s 3ms/step - loss: 366.5837 - mse: 366.5837 - mape: 1.1287 - mae: 15.2258 - val_loss: 1257.5078 - val_mse: 1257.5078 - val_mape: 2.1285 - val_mae: 29.0613\n",
            "\n",
            "Epoch 00153: val_loss did not improve from 1119.66725\n",
            "Epoch 154/2000\n",
            "264/264 [==============================] - 1s 3ms/step - loss: 386.7197 - mse: 386.7197 - mape: 1.1535 - mae: 15.5614 - val_loss: 1372.4647 - val_mse: 1372.4646 - val_mape: 2.2039 - val_mae: 30.0344\n",
            "\n",
            "Epoch 00154: val_loss did not improve from 1119.66725\n",
            "Epoch 00154: early stopping\n"
          ],
          "name": "stdout"
        }
      ]
    },
    {
      "cell_type": "code",
      "metadata": {
        "id": "G9YbSFTMzdfT",
        "colab": {
          "base_uri": "https://localhost:8080/",
          "height": 34
        },
        "outputId": "99320e0c-ff88-458f-8d4c-79a00d30eec9"
      },
      "source": [
        "scores = saved_model.evaluate(X,y,verbose=0)\n",
        "print((model.metrics_names, scores))\n",
        "#print(\"%s: %.2f%%\" % (model.metrics_names[1], scores[1]))"
      ],
      "execution_count": null,
      "outputs": [
        {
          "output_type": "stream",
          "text": [
            "(['loss', 'mse', 'mape', 'mae'], [832.6557417857496, 832.65576171875, 1.7131614685058594, 23.187314987182617])\n"
          ],
          "name": "stdout"
        }
      ]
    },
    {
      "cell_type": "code",
      "metadata": {
        "id": "8OWr9-ph2gmm"
      },
      "source": [],
      "execution_count": null,
      "outputs": []
    },
    {
      "cell_type": "code",
      "metadata": {
        "id": "n7EFiPx6zdfb",
        "colab": {
          "base_uri": "https://localhost:8080/",
          "height": 105
        },
        "outputId": "195817d2-b0b7-4859-98db-98656cd3ceb0"
      },
      "source": [
        "# demonstrate prediction\n",
        "# input data is 365 days data and predicting next month data which is already mentioned in the above code\n",
        "x_input = array(raw_seq[-365:])\n",
        "x_input = x_input.reshape((1, n_steps_in, n_features))\n",
        "yhat = saved_model.predict(x_input, verbose=0)\n",
        "\n",
        "print(yhat)"
      ],
      "execution_count": null,
      "outputs": [
        {
          "output_type": "stream",
          "text": [
            "[[1325.8025 1327.5068 1360.2291 1351.7134 1366.1255 1336.6168 1366.1265\n",
            "  1338.3992 1353.2864 1365.0427 1341.3945 1352.9818 1340.1605 1326.5836\n",
            "  1338.5049 1356.2307 1339.5215 1349.2551 1332.641  1330.7112 1330.2351\n",
            "  1349.3733 1370.0616 1351.3438 1353.8008 1362.8398 1337.9276 1360.018\n",
            "  1339.9556 1360.2616 1345.2521]]\n"
          ],
          "name": "stdout"
        }
      ]
    },
    {
      "cell_type": "code",
      "metadata": {
        "id": "HPAJoIgCzdfi",
        "colab": {
          "base_uri": "https://localhost:8080/",
          "height": 52
        },
        "outputId": "b27f8633-d47a-48f9-e267-fc4fbe7d3446"
      },
      "source": [
        "#Creating output file for the predictions:\n",
        "\n",
        "df.index = df[\"Date\"]\n",
        "\n",
        "df.index = pd.to_datetime(df.index)\n",
        "\n",
        "lastDate = df.last_valid_index()\n",
        "\n",
        "print(lastDate)\n",
        "next = lastDate + pd.DateOffset(days=1)\n",
        "print(next)\n",
        "\n",
        "rng = pd.date_range(next, periods=31, freq='D') #only change periods in order to change number of prediction days ahead\n",
        "idx = pd.Index(rng)\n",
        "\n",
        "new = pd.DataFrame(yhat.reshape(-1, len(yhat)), columns=['Pred'], index= idx)\n"
      ],
      "execution_count": null,
      "outputs": [
        {
          "output_type": "stream",
          "text": [
            "2020-02-29 00:00:00\n",
            "2020-03-01 00:00:00\n"
          ],
          "name": "stdout"
        }
      ]
    },
    {
      "cell_type": "code",
      "metadata": {
        "id": "P2Zohr6jzdfr",
        "colab": {
          "base_uri": "https://localhost:8080/",
          "height": 334
        },
        "outputId": "a1f7ab26-b65c-49c9-a382-ee5225e32718"
      },
      "source": [
        "model.summary()"
      ],
      "execution_count": null,
      "outputs": [
        {
          "output_type": "stream",
          "text": [
            "Model: \"sequential_2\"\n",
            "_________________________________________________________________\n",
            "Layer (type)                 Output Shape              Param #   \n",
            "=================================================================\n",
            "conv1d_2 (Conv1D)            (None, 364, 32)           96        \n",
            "_________________________________________________________________\n",
            "max_pooling1d_2 (MaxPooling1 (None, 182, 32)           0         \n",
            "_________________________________________________________________\n",
            "flatten_2 (Flatten)          (None, 5824)              0         \n",
            "_________________________________________________________________\n",
            "dense_3 (Dense)              (None, 1000)              5825000   \n",
            "_________________________________________________________________\n",
            "dense_4 (Dense)              (None, 31)                31031     \n",
            "=================================================================\n",
            "Total params: 5,856,127\n",
            "Trainable params: 5,856,127\n",
            "Non-trainable params: 0\n",
            "_________________________________________________________________\n"
          ],
          "name": "stdout"
        }
      ]
    },
    {
      "cell_type": "code",
      "metadata": {
        "id": "9EKQWY-3zdfz",
        "colab": {
          "base_uri": "https://localhost:8080/",
          "height": 535
        },
        "outputId": "74de4d3a-8214-466d-a8df-7360144386ec"
      },
      "source": [
        "\n",
        "new.plot(figsize=(12, 8))"
      ],
      "execution_count": null,
      "outputs": [
        {
          "output_type": "execute_result",
          "data": {
            "text/plain": [
              "<matplotlib.axes._subplots.AxesSubplot at 0x7fc447d91518>"
            ]
          },
          "metadata": {
            "tags": []
          },
          "execution_count": 39
        },
        {
          "output_type": "display_data",
          "data": {
            "image/png": "[encoded data removed]",
            "text/plain": [
              "<Figure size 864x576 with 1 Axes>"
            ]
          },
          "metadata": {
            "tags": [],
            "needs_background": "light"
          }
        }
      ]
    },
    {
      "cell_type": "code",
      "metadata": {
        "id": "7FkkosUIzdf7"
      },
      "source": [
        "\n",
        "#output file\n",
        "new.to_excel(r\"/content/drive/My Drive/Colab Notebooks/Output/CNN/CNNnewORI.xlsx\")"
      ],
      "execution_count": null,
      "outputs": []
    },
    {
      "cell_type": "code",
      "metadata": {
        "id": "vbE1OUmzzdgC",
        "colab": {
          "base_uri": "https://localhost:8080/",
          "height": 490
        },
        "outputId": "92d1e044-3f2d-407e-98f2-33a130a319fb"
      },
      "source": [
        "#save the model\n",
        "#import pickle\n",
        "#filename = '/content/drive/My Drive/Colab Notebooks/Output/CNN/final_modelORI.sav'\n",
        "\n",
        "saved_model = load_model('/content/drive/My Drive/Colab Notebooks/Output/CNN/best_modelORI.h5')\n",
        "#pickle.dump(saved_model, open(filename, 'wb'))"
      ],
      "execution_count": null,
      "outputs": [
        {
          "output_type": "error",
          "ename": "OSError",
          "evalue": "ignored",
          "traceback": [
            "\u001b[0;31m---------------------------------------------------------------------------\u001b[0m",
            "\u001b[0;31mOSError\u001b[0m                                   Traceback (most recent call last)",
            "\u001b[0;32m<ipython-input-41-5e7b212654d2>\u001b[0m in \u001b[0;36m<module>\u001b[0;34m()\u001b[0m\n\u001b[1;32m      3\u001b[0m \u001b[0mfilename\u001b[0m \u001b[0;34m=\u001b[0m \u001b[0;34m'/content/drive/My Drive/Colab Notebooks/Output/CNN/final_modelORI.sav'\u001b[0m\u001b[0;34m\u001b[0m\u001b[0;34m\u001b[0m\u001b[0m\n\u001b[1;32m      4\u001b[0m \u001b[0;34m\u001b[0m\u001b[0m\n\u001b[0;32m----> 5\u001b[0;31m \u001b[0msaved_model\u001b[0m \u001b[0;34m=\u001b[0m \u001b[0mload_model\u001b[0m\u001b[0;34m(\u001b[0m\u001b[0;34m'/content/drive/My Drive/Colab Notebooks/Output/CNN/best_modelORI.h5'\u001b[0m\u001b[0;34m)\u001b[0m\u001b[0;34m\u001b[0m\u001b[0;34m\u001b[0m\u001b[0m\n\u001b[0m\u001b[1;32m      6\u001b[0m \u001b[0mpickle\u001b[0m\u001b[0;34m.\u001b[0m\u001b[0mdump\u001b[0m\u001b[0;34m(\u001b[0m\u001b[0msaved_model\u001b[0m\u001b[0;34m,\u001b[0m \u001b[0mopen\u001b[0m\u001b[0;34m(\u001b[0m\u001b[0mfilename\u001b[0m\u001b[0;34m,\u001b[0m \u001b[0;34m'wb'\u001b[0m\u001b[0;34m)\u001b[0m\u001b[0;34m)\u001b[0m\u001b[0;34m\u001b[0m\u001b[0;34m\u001b[0m\u001b[0m\n",
            "\u001b[0;32m/usr/local/lib/python3.6/dist-packages/keras/engine/saving.py\u001b[0m in \u001b[0;36mload_wrapper\u001b[0;34m(*args, **kwargs)\u001b[0m\n\u001b[1;32m    490\u001b[0m                 \u001b[0mos\u001b[0m\u001b[0;34m.\u001b[0m\u001b[0mremove\u001b[0m\u001b[0;34m(\u001b[0m\u001b[0mtmp_filepath\u001b[0m\u001b[0;34m)\u001b[0m\u001b[0;34m\u001b[0m\u001b[0;34m\u001b[0m\u001b[0m\n\u001b[1;32m    491\u001b[0m             \u001b[0;32mreturn\u001b[0m \u001b[0mres\u001b[0m\u001b[0;34m\u001b[0m\u001b[0;34m\u001b[0m\u001b[0m\n\u001b[0;32m--> 492\u001b[0;31m         \u001b[0;32mreturn\u001b[0m \u001b[0mload_function\u001b[0m\u001b[0;34m(\u001b[0m\u001b[0;34m*\u001b[0m\u001b[0margs\u001b[0m\u001b[0;34m,\u001b[0m \u001b[0;34m**\u001b[0m\u001b[0mkwargs\u001b[0m\u001b[0;34m)\u001b[0m\u001b[0;34m\u001b[0m\u001b[0;34m\u001b[0m\u001b[0m\n\u001b[0m\u001b[1;32m    493\u001b[0m \u001b[0;34m\u001b[0m\u001b[0m\n\u001b[1;32m    494\u001b[0m     \u001b[0;32mreturn\u001b[0m \u001b[0mload_wrapper\u001b[0m\u001b[0;34m\u001b[0m\u001b[0;34m\u001b[0m\u001b[0m\n",
            "\u001b[0;32m/usr/local/lib/python3.6/dist-packages/keras/engine/saving.py\u001b[0m in \u001b[0;36mload_model\u001b[0;34m(filepath, custom_objects, compile)\u001b[0m\n\u001b[1;32m    581\u001b[0m \u001b[0;34m\u001b[0m\u001b[0m\n\u001b[1;32m    582\u001b[0m     \u001b[0;32mif\u001b[0m \u001b[0mH5Dict\u001b[0m\u001b[0;34m.\u001b[0m\u001b[0mis_supported_type\u001b[0m\u001b[0;34m(\u001b[0m\u001b[0mfilepath\u001b[0m\u001b[0;34m)\u001b[0m\u001b[0;34m:\u001b[0m\u001b[0;34m\u001b[0m\u001b[0;34m\u001b[0m\u001b[0m\n\u001b[0;32m--> 583\u001b[0;31m         \u001b[0;32mwith\u001b[0m \u001b[0mH5Dict\u001b[0m\u001b[0;34m(\u001b[0m\u001b[0mfilepath\u001b[0m\u001b[0;34m,\u001b[0m \u001b[0mmode\u001b[0m\u001b[0;34m=\u001b[0m\u001b[0;34m'r'\u001b[0m\u001b[0;34m)\u001b[0m \u001b[0;32mas\u001b[0m \u001b[0mh5dict\u001b[0m\u001b[0;34m:\u001b[0m\u001b[0;34m\u001b[0m\u001b[0;34m\u001b[0m\u001b[0m\n\u001b[0m\u001b[1;32m    584\u001b[0m             \u001b[0mmodel\u001b[0m \u001b[0;34m=\u001b[0m \u001b[0m_deserialize_model\u001b[0m\u001b[0;34m(\u001b[0m\u001b[0mh5dict\u001b[0m\u001b[0;34m,\u001b[0m \u001b[0mcustom_objects\u001b[0m\u001b[0;34m,\u001b[0m \u001b[0mcompile\u001b[0m\u001b[0;34m)\u001b[0m\u001b[0;34m\u001b[0m\u001b[0;34m\u001b[0m\u001b[0m\n\u001b[1;32m    585\u001b[0m     \u001b[0;32melif\u001b[0m \u001b[0mhasattr\u001b[0m\u001b[0;34m(\u001b[0m\u001b[0mfilepath\u001b[0m\u001b[0;34m,\u001b[0m \u001b[0;34m'write'\u001b[0m\u001b[0;34m)\u001b[0m \u001b[0;32mand\u001b[0m \u001b[0mcallable\u001b[0m\u001b[0;34m(\u001b[0m\u001b[0mfilepath\u001b[0m\u001b[0;34m.\u001b[0m\u001b[0mwrite\u001b[0m\u001b[0;34m)\u001b[0m\u001b[0;34m:\u001b[0m\u001b[0;34m\u001b[0m\u001b[0;34m\u001b[0m\u001b[0m\n",
            "\u001b[0;32m/usr/local/lib/python3.6/dist-packages/keras/utils/io_utils.py\u001b[0m in \u001b[0;36m__init__\u001b[0;34m(self, path, mode)\u001b[0m\n\u001b[1;32m    189\u001b[0m             \u001b[0mself\u001b[0m\u001b[0;34m.\u001b[0m\u001b[0m_is_file\u001b[0m \u001b[0;34m=\u001b[0m \u001b[0;32mFalse\u001b[0m\u001b[0;34m\u001b[0m\u001b[0;34m\u001b[0m\u001b[0m\n\u001b[1;32m    190\u001b[0m         \u001b[0;32melif\u001b[0m \u001b[0misinstance\u001b[0m\u001b[0;34m(\u001b[0m\u001b[0mpath\u001b[0m\u001b[0;34m,\u001b[0m \u001b[0msix\u001b[0m\u001b[0;34m.\u001b[0m\u001b[0mstring_types\u001b[0m\u001b[0;34m)\u001b[0m \u001b[0;32mor\u001b[0m \u001b[0m_is_path_instance\u001b[0m\u001b[0;34m(\u001b[0m\u001b[0mpath\u001b[0m\u001b[0;34m)\u001b[0m\u001b[0;34m:\u001b[0m\u001b[0;34m\u001b[0m\u001b[0;34m\u001b[0m\u001b[0m\n\u001b[0;32m--> 191\u001b[0;31m             \u001b[0mself\u001b[0m\u001b[0;34m.\u001b[0m\u001b[0mdata\u001b[0m \u001b[0;34m=\u001b[0m \u001b[0mh5py\u001b[0m\u001b[0;34m.\u001b[0m\u001b[0mFile\u001b[0m\u001b[0;34m(\u001b[0m\u001b[0mpath\u001b[0m\u001b[0;34m,\u001b[0m \u001b[0mmode\u001b[0m\u001b[0;34m=\u001b[0m\u001b[0mmode\u001b[0m\u001b[0;34m)\u001b[0m\u001b[0;34m\u001b[0m\u001b[0;34m\u001b[0m\u001b[0m\n\u001b[0m\u001b[1;32m    192\u001b[0m             \u001b[0mself\u001b[0m\u001b[0;34m.\u001b[0m\u001b[0m_is_file\u001b[0m \u001b[0;34m=\u001b[0m \u001b[0;32mTrue\u001b[0m\u001b[0;34m\u001b[0m\u001b[0;34m\u001b[0m\u001b[0m\n\u001b[1;32m    193\u001b[0m         \u001b[0;32melif\u001b[0m \u001b[0misinstance\u001b[0m\u001b[0;34m(\u001b[0m\u001b[0mpath\u001b[0m\u001b[0;34m,\u001b[0m \u001b[0mdict\u001b[0m\u001b[0;34m)\u001b[0m\u001b[0;34m:\u001b[0m\u001b[0;34m\u001b[0m\u001b[0;34m\u001b[0m\u001b[0m\n",
            "\u001b[0;32m/usr/local/lib/python3.6/dist-packages/h5py/_hl/files.py\u001b[0m in \u001b[0;36m__init__\u001b[0;34m(self, name, mode, driver, libver, userblock_size, swmr, rdcc_nslots, rdcc_nbytes, rdcc_w0, track_order, **kwds)\u001b[0m\n\u001b[1;32m    406\u001b[0m                 fid = make_fid(name, mode, userblock_size,\n\u001b[1;32m    407\u001b[0m                                \u001b[0mfapl\u001b[0m\u001b[0;34m,\u001b[0m \u001b[0mfcpl\u001b[0m\u001b[0;34m=\u001b[0m\u001b[0mmake_fcpl\u001b[0m\u001b[0;34m(\u001b[0m\u001b[0mtrack_order\u001b[0m\u001b[0;34m=\u001b[0m\u001b[0mtrack_order\u001b[0m\u001b[0;34m)\u001b[0m\u001b[0;34m,\u001b[0m\u001b[0;34m\u001b[0m\u001b[0;34m\u001b[0m\u001b[0m\n\u001b[0;32m--> 408\u001b[0;31m                                swmr=swmr)\n\u001b[0m\u001b[1;32m    409\u001b[0m \u001b[0;34m\u001b[0m\u001b[0m\n\u001b[1;32m    410\u001b[0m             \u001b[0;32mif\u001b[0m \u001b[0misinstance\u001b[0m\u001b[0;34m(\u001b[0m\u001b[0mlibver\u001b[0m\u001b[0;34m,\u001b[0m \u001b[0mtuple\u001b[0m\u001b[0;34m)\u001b[0m\u001b[0;34m:\u001b[0m\u001b[0;34m\u001b[0m\u001b[0;34m\u001b[0m\u001b[0m\n",
            "\u001b[0;32m/usr/local/lib/python3.6/dist-packages/h5py/_hl/files.py\u001b[0m in \u001b[0;36mmake_fid\u001b[0;34m(name, mode, userblock_size, fapl, fcpl, swmr)\u001b[0m\n\u001b[1;32m    171\u001b[0m         \u001b[0;32mif\u001b[0m \u001b[0mswmr\u001b[0m \u001b[0;32mand\u001b[0m \u001b[0mswmr_support\u001b[0m\u001b[0;34m:\u001b[0m\u001b[0;34m\u001b[0m\u001b[0;34m\u001b[0m\u001b[0m\n\u001b[1;32m    172\u001b[0m             \u001b[0mflags\u001b[0m \u001b[0;34m|=\u001b[0m \u001b[0mh5f\u001b[0m\u001b[0;34m.\u001b[0m\u001b[0mACC_SWMR_READ\u001b[0m\u001b[0;34m\u001b[0m\u001b[0;34m\u001b[0m\u001b[0m\n\u001b[0;32m--> 173\u001b[0;31m         \u001b[0mfid\u001b[0m \u001b[0;34m=\u001b[0m \u001b[0mh5f\u001b[0m\u001b[0;34m.\u001b[0m\u001b[0mopen\u001b[0m\u001b[0;34m(\u001b[0m\u001b[0mname\u001b[0m\u001b[0;34m,\u001b[0m \u001b[0mflags\u001b[0m\u001b[0;34m,\u001b[0m \u001b[0mfapl\u001b[0m\u001b[0;34m=\u001b[0m\u001b[0mfapl\u001b[0m\u001b[0;34m)\u001b[0m\u001b[0;34m\u001b[0m\u001b[0;34m\u001b[0m\u001b[0m\n\u001b[0m\u001b[1;32m    174\u001b[0m     \u001b[0;32melif\u001b[0m \u001b[0mmode\u001b[0m \u001b[0;34m==\u001b[0m \u001b[0;34m'r+'\u001b[0m\u001b[0;34m:\u001b[0m\u001b[0;34m\u001b[0m\u001b[0;34m\u001b[0m\u001b[0m\n\u001b[1;32m    175\u001b[0m         \u001b[0mfid\u001b[0m \u001b[0;34m=\u001b[0m \u001b[0mh5f\u001b[0m\u001b[0;34m.\u001b[0m\u001b[0mopen\u001b[0m\u001b[0;34m(\u001b[0m\u001b[0mname\u001b[0m\u001b[0;34m,\u001b[0m \u001b[0mh5f\u001b[0m\u001b[0;34m.\u001b[0m\u001b[0mACC_RDWR\u001b[0m\u001b[0;34m,\u001b[0m \u001b[0mfapl\u001b[0m\u001b[0;34m=\u001b[0m\u001b[0mfapl\u001b[0m\u001b[0;34m)\u001b[0m\u001b[0;34m\u001b[0m\u001b[0;34m\u001b[0m\u001b[0m\n",
            "\u001b[0;32mh5py/_objects.pyx\u001b[0m in \u001b[0;36mh5py._objects.with_phil.wrapper\u001b[0;34m()\u001b[0m\n",
            "\u001b[0;32mh5py/_objects.pyx\u001b[0m in \u001b[0;36mh5py._objects.with_phil.wrapper\u001b[0;34m()\u001b[0m\n",
            "\u001b[0;32mh5py/h5f.pyx\u001b[0m in \u001b[0;36mh5py.h5f.open\u001b[0;34m()\u001b[0m\n",
            "\u001b[0;31mOSError\u001b[0m: Unable to open file (unable to open file: name = '/content/drive/My Drive/Colab Notebooks/Output/CNN/best_modelORI.h5', errno = 2, error message = 'No such file or directory', flags = 0, o_flags = 0)"
          ]
        }
      ]
    },
    {
      "cell_type": "code",
      "metadata": {
        "id": "qO5sz7UCzdgJ"
      },
      "source": [],
      "execution_count": null,
      "outputs": []
    },
    {
      "cell_type": "markdown",
      "metadata": {
        "id": "lfqIz5IJ0yTu"
      },
      "source": [
        "\n",
        "\n",
        "---\n",
        "\n",
        "\n",
        "\n",
        "# **RUN saved model**\n",
        "\n",
        "---\n",
        "\n"
      ]
    },
    {
      "cell_type": "code",
      "metadata": {
        "id": "0QTeipWuTvqX"
      },
      "source": [
        "from google.colab import drive\n",
        "drive.mount('/content/drive')"
      ],
      "execution_count": null,
      "outputs": []
    },
    {
      "cell_type": "code",
      "metadata": {
        "id": "e19WJh-_zdgU",
        "colab": {
          "base_uri": "https://localhost:8080/"
        },
        "outputId": "294a07d4-b6d5-4c51-ff16-fcb5ae03f505"
      },
      "source": [
        "import pickle\n",
        "import pandas as pd\n",
        "import numpy as np\n",
        "import tensorflow as tf\n",
        "from tensorflow import keras\n",
        "from tensorflow.keras import layers\n",
        "import matplotlib.pyplot as plt\n",
        "import datetime\n",
        "# load all data\n",
        "from keras.callbacks import ModelCheckpoint\n",
        "# univariate multi-step vector-output 1d cnn model\n",
        "from numpy import array\n",
        "from keras.models import Sequential\n",
        "from keras.layers import Dense\n",
        "from keras.layers import Flatten\n",
        "from keras.layers.convolutional import Conv1D\n",
        "from keras.layers.convolutional import MaxPooling1D\n",
        "from keras.callbacks import EarlyStopping\n",
        "from keras.models import load_model\n",
        "# save the model to disk (not compulsary)\n",
        "# split into samples\n",
        "# split a univariate sequence into samples\n",
        "def split_sequence(sequence, n_steps_in, n_steps_out):\n",
        "    X, y = list(), list()\n",
        "    for i in range(len(sequence)):\n",
        "        # find the end of this pattern\n",
        "        end_ix = i + n_steps_in\n",
        "        out_end_ix = end_ix + n_steps_out\n",
        "        # check if we are beyond the sequence\n",
        "        if out_end_ix > len(sequence):\n",
        "            break\n",
        "        # gather input and output parts of the pattern\n",
        "        seq_x, seq_y = sequence[i:end_ix], sequence[end_ix:out_end_ix]\n",
        "        X.append(seq_x)\n",
        "        y.append(seq_y)\n",
        "    return array(X), array(y)\n",
        "\n",
        "\n",
        "#input file\n",
        "df = pd.read_csv(r'/content/KMJ4Daily2018-2020working.csv') #change the path to your drive\n",
        "\n",
        "df = df.dropna()\n",
        "raw_seq = df['Power Generation'].tolist()\n",
        "n_steps_in, n_steps_out =365,31\n",
        "n_features=1\n",
        "X, y = split_sequence(raw_seq, n_steps_in, n_steps_out)\n",
        "\n",
        "X = X.reshape((X.shape[0], X.shape[1], n_features))\n",
        "# define model\n",
        "\n",
        "\n",
        "#filename = '/content/drive/My Drive/Colab Notebooks/Output/CNN/final_modelORI.sav'\n",
        "\n",
        "\n",
        "x_input = array(raw_seq[-365:])\n",
        "x_input = x_input.reshape((1, n_steps_in, n_features))\n",
        "\n",
        "# load the model from disk\n",
        "#loaded_model = pickle.load(open(filename, 'rb'))\n",
        "loaded_model=load_model(\"/content/best_modelTunORI2021.h5\") #change the path to your drive\n",
        "result = loaded_model.predict(x_input, verbose=0)\n",
        "#Creating output file for the predictions:\n",
        "\n",
        "df.index = df[\"Date\"]\n",
        "\n",
        "df.index = pd.to_datetime(df.index)\n",
        "\n",
        "lastDate = df.last_valid_index()\n",
        "\n",
        "\n",
        "next = lastDate + pd.DateOffset(days=1)\n",
        "\n",
        "\n",
        "rng = pd.date_range(next, periods=31, freq='D') #only change periods in order to change number of prediction days ahead\n",
        "idx = pd.Index(rng)\n",
        "\n",
        "print(result)"
      ],
      "execution_count": null,
      "outputs": [
        {
          "output_type": "stream",
          "name": "stdout",
          "text": [
            "[[1319.5477 1326.372  1358.545  1379.992  1361.9772 1341.6324 1332.5635\n",
            "  1324.5172 1359.728  1342.9739 1334.2219 1378.7085 1332.9619 1329.2843\n",
            "  1330.1661 1370.6166 1377.0189 1372.334  1347.995  1364.9419 1311.7999\n",
            "  1340.3418 1382.6921 1354.2084 1323.6033 1329.4513 1344.5542 1340.7234\n",
            "  1350.4855 1364.017  1341.736 ]]\n"
          ]
        }
      ]
    },
    {
      "cell_type": "code",
      "metadata": {
        "id": "JBFuOCerzdga"
      },
      "source": [
        "new1 = pd.DataFrame(result.reshape(-1, len(result)), columns=['Pred'], index= idx)"
      ],
      "execution_count": null,
      "outputs": []
    },
    {
      "cell_type": "code",
      "metadata": {
        "id": "cb7c5ufVzdgg"
      },
      "source": [
        "#output file\n",
        "new1.to_excel(r\"/content/drive/My Drive/Colab Notebooks/Output/CNN/CNNSavedModelORI.xlsx\")"
      ],
      "execution_count": null,
      "outputs": []
    },
    {
      "cell_type": "code",
      "metadata": {
        "id": "pq_h1F0rbALJ"
      },
      "source": [
        "scores = saved_model.evaluate(X,y,verbose=0)\n",
        "print((model.metrics_names, scores))\n",
        "#print(\"%s: %.2f%%\" % (model.metrics_names[1], scores[1]))"
      ],
      "execution_count": null,
      "outputs": []
    },
    {
      "cell_type": "code",
      "metadata": {
        "id": "RktooZGEzdgp"
      },
      "source": [
        "new1.plot(figsize=(12, 8))"
      ],
      "execution_count": null,
      "outputs": []
    }
  ]
}